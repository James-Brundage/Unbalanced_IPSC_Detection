{
 "cells": [
  {
   "cell_type": "code",
   "execution_count": 10,
   "id": "ccd48547",
   "metadata": {},
   "outputs": [],
   "source": [
    "from training_set_class import *\n",
    "import seaborn as sns\n",
    "from imblearn.under_sampling import RandomUnderSampler\n",
    "from imblearn.over_sampling import RandomOverSampler\n",
    "from sklearn.model_selection import train_test_split\n",
    "from collections import Counter\n",
    "from sklearn.preprocessing import MinMaxScaler"
   ]
  },
  {
   "cell_type": "code",
   "execution_count": 11,
   "id": "5d83f42a",
   "metadata": {},
   "outputs": [
    {
     "name": "stderr",
     "output_type": "stream",
     "text": [
      "100%|████████████████████████████████| 27958/27958 [00:00<00:00, 1322778.92it/s]\n"
     ]
    }
   ],
   "source": [
    "abf = r'/Users/colinmason/Box/2021Colin Mason/MarvinDiaz/Cerebellum - granule cells/2011_04_12_0003.abf'\n",
    "labs_path = r'/Users/colinmason/Box/2021Colin Mason/Summer Mini Analysis Labelling/Abf Files Data Labelling.abf.xlsx'\n",
    "labs_xlsx = pd.ExcelFile(labs_path)\n",
    "\n",
    "test1 = TrainingData(labs_xlsx, 'Crblm 0003 Unflitered', abf)"
   ]
  },
  {
   "cell_type": "code",
   "execution_count": 12,
   "id": "0faf3120",
   "metadata": {},
   "outputs": [],
   "source": [
    "df = test1.traces"
   ]
  },
  {
   "cell_type": "code",
   "execution_count": 13,
   "id": "758b2cf5",
   "metadata": {},
   "outputs": [
    {
     "data": {
      "text/html": [
       "<div>\n",
       "<style scoped>\n",
       "    .dataframe tbody tr th:only-of-type {\n",
       "        vertical-align: middle;\n",
       "    }\n",
       "\n",
       "    .dataframe tbody tr th {\n",
       "        vertical-align: top;\n",
       "    }\n",
       "\n",
       "    .dataframe thead th {\n",
       "        text-align: right;\n",
       "    }\n",
       "</style>\n",
       "<table border=\"1\" class=\"dataframe\">\n",
       "  <thead>\n",
       "    <tr style=\"text-align: right;\">\n",
       "      <th></th>\n",
       "      <th>index</th>\n",
       "      <th>Time Index</th>\n",
       "      <th>Current</th>\n",
       "      <th>Label</th>\n",
       "      <th>Offset</th>\n",
       "      <th>index</th>\n",
       "      <th>0</th>\n",
       "      <th>1</th>\n",
       "      <th>2</th>\n",
       "      <th>3</th>\n",
       "      <th>...</th>\n",
       "      <th>3990</th>\n",
       "      <th>3991</th>\n",
       "      <th>3992</th>\n",
       "      <th>3993</th>\n",
       "      <th>3994</th>\n",
       "      <th>3995</th>\n",
       "      <th>3996</th>\n",
       "      <th>3997</th>\n",
       "      <th>3998</th>\n",
       "      <th>3999</th>\n",
       "    </tr>\n",
       "  </thead>\n",
       "  <tbody>\n",
       "    <tr>\n",
       "      <th>0</th>\n",
       "      <td>29</td>\n",
       "      <td>2035</td>\n",
       "      <td>-44.067379</td>\n",
       "      <td>0</td>\n",
       "      <td>0.0</td>\n",
       "      <td>0</td>\n",
       "      <td>-32.592770</td>\n",
       "      <td>-30.456541</td>\n",
       "      <td>-27.648924</td>\n",
       "      <td>-25.939939</td>\n",
       "      <td>...</td>\n",
       "      <td>-41.748043</td>\n",
       "      <td>-36.499020</td>\n",
       "      <td>-33.752438</td>\n",
       "      <td>-32.836910</td>\n",
       "      <td>-33.996578</td>\n",
       "      <td>-38.574215</td>\n",
       "      <td>-40.283199</td>\n",
       "      <td>-44.860836</td>\n",
       "      <td>-49.438473</td>\n",
       "      <td>-48.645016</td>\n",
       "    </tr>\n",
       "    <tr>\n",
       "      <th>1</th>\n",
       "      <td>30</td>\n",
       "      <td>2083</td>\n",
       "      <td>-34.118649</td>\n",
       "      <td>0</td>\n",
       "      <td>0.0</td>\n",
       "      <td>1</td>\n",
       "      <td>-19.836424</td>\n",
       "      <td>-20.751951</td>\n",
       "      <td>-20.324705</td>\n",
       "      <td>-20.324705</td>\n",
       "      <td>...</td>\n",
       "      <td>-21.057127</td>\n",
       "      <td>-23.132322</td>\n",
       "      <td>-27.832029</td>\n",
       "      <td>-26.733397</td>\n",
       "      <td>-25.451658</td>\n",
       "      <td>-27.893064</td>\n",
       "      <td>-29.174803</td>\n",
       "      <td>-28.869627</td>\n",
       "      <td>-32.104488</td>\n",
       "      <td>-35.644527</td>\n",
       "    </tr>\n",
       "    <tr>\n",
       "      <th>2</th>\n",
       "      <td>31</td>\n",
       "      <td>2137</td>\n",
       "      <td>-39.245602</td>\n",
       "      <td>0</td>\n",
       "      <td>0.0</td>\n",
       "      <td>2</td>\n",
       "      <td>-32.531734</td>\n",
       "      <td>-37.109371</td>\n",
       "      <td>-34.423824</td>\n",
       "      <td>-28.198240</td>\n",
       "      <td>...</td>\n",
       "      <td>-36.865231</td>\n",
       "      <td>-37.841793</td>\n",
       "      <td>-36.560055</td>\n",
       "      <td>-35.217281</td>\n",
       "      <td>-32.958981</td>\n",
       "      <td>-33.142086</td>\n",
       "      <td>-33.935543</td>\n",
       "      <td>-32.775875</td>\n",
       "      <td>-32.287594</td>\n",
       "      <td>-32.470699</td>\n",
       "    </tr>\n",
       "    <tr>\n",
       "      <th>3</th>\n",
       "      <td>32</td>\n",
       "      <td>2246</td>\n",
       "      <td>-39.306637</td>\n",
       "      <td>0</td>\n",
       "      <td>0.0</td>\n",
       "      <td>3</td>\n",
       "      <td>-29.418943</td>\n",
       "      <td>-26.245115</td>\n",
       "      <td>-25.451658</td>\n",
       "      <td>-27.404783</td>\n",
       "      <td>...</td>\n",
       "      <td>-21.789549</td>\n",
       "      <td>-18.371580</td>\n",
       "      <td>-18.920897</td>\n",
       "      <td>-18.432615</td>\n",
       "      <td>-18.005369</td>\n",
       "      <td>-18.432615</td>\n",
       "      <td>-21.789549</td>\n",
       "      <td>-24.841307</td>\n",
       "      <td>-23.376463</td>\n",
       "      <td>-17.883299</td>\n",
       "    </tr>\n",
       "    <tr>\n",
       "      <th>4</th>\n",
       "      <td>33</td>\n",
       "      <td>2384</td>\n",
       "      <td>-45.349117</td>\n",
       "      <td>0</td>\n",
       "      <td>0.0</td>\n",
       "      <td>4</td>\n",
       "      <td>-41.870113</td>\n",
       "      <td>-43.395992</td>\n",
       "      <td>-41.198727</td>\n",
       "      <td>-42.053219</td>\n",
       "      <td>...</td>\n",
       "      <td>-29.052732</td>\n",
       "      <td>-30.822752</td>\n",
       "      <td>-36.254879</td>\n",
       "      <td>-37.841793</td>\n",
       "      <td>-31.433104</td>\n",
       "      <td>-27.587889</td>\n",
       "      <td>-26.000975</td>\n",
       "      <td>-26.550291</td>\n",
       "      <td>-26.855467</td>\n",
       "      <td>-26.245115</td>\n",
       "    </tr>\n",
       "    <tr>\n",
       "      <th>...</th>\n",
       "      <td>...</td>\n",
       "      <td>...</td>\n",
       "      <td>...</td>\n",
       "      <td>...</td>\n",
       "      <td>...</td>\n",
       "      <td>...</td>\n",
       "      <td>...</td>\n",
       "      <td>...</td>\n",
       "      <td>...</td>\n",
       "      <td>...</td>\n",
       "      <td>...</td>\n",
       "      <td>...</td>\n",
       "      <td>...</td>\n",
       "      <td>...</td>\n",
       "      <td>...</td>\n",
       "      <td>...</td>\n",
       "      <td>...</td>\n",
       "      <td>...</td>\n",
       "      <td>...</td>\n",
       "      <td>...</td>\n",
       "      <td>...</td>\n",
       "    </tr>\n",
       "    <tr>\n",
       "      <th>27953</th>\n",
       "      <td>27982</td>\n",
       "      <td>3001799</td>\n",
       "      <td>-23.071287</td>\n",
       "      <td>0</td>\n",
       "      <td>0.0</td>\n",
       "      <td>27953</td>\n",
       "      <td>-13.549804</td>\n",
       "      <td>-19.042967</td>\n",
       "      <td>-18.615721</td>\n",
       "      <td>-16.418455</td>\n",
       "      <td>...</td>\n",
       "      <td>-6.286621</td>\n",
       "      <td>-7.812500</td>\n",
       "      <td>-8.728026</td>\n",
       "      <td>-9.460448</td>\n",
       "      <td>-9.216308</td>\n",
       "      <td>-8.300780</td>\n",
       "      <td>-7.263183</td>\n",
       "      <td>-9.216308</td>\n",
       "      <td>-9.033202</td>\n",
       "      <td>-7.751464</td>\n",
       "    </tr>\n",
       "    <tr>\n",
       "      <th>27954</th>\n",
       "      <td>27983</td>\n",
       "      <td>3001982</td>\n",
       "      <td>-22.888182</td>\n",
       "      <td>0</td>\n",
       "      <td>0.0</td>\n",
       "      <td>27954</td>\n",
       "      <td>-19.287107</td>\n",
       "      <td>-19.470213</td>\n",
       "      <td>-19.592283</td>\n",
       "      <td>-19.592283</td>\n",
       "      <td>...</td>\n",
       "      <td>-10.986327</td>\n",
       "      <td>-12.329101</td>\n",
       "      <td>-14.221190</td>\n",
       "      <td>-16.662596</td>\n",
       "      <td>-14.709472</td>\n",
       "      <td>-10.437011</td>\n",
       "      <td>-9.582519</td>\n",
       "      <td>-13.183593</td>\n",
       "      <td>-13.977050</td>\n",
       "      <td>-12.145995</td>\n",
       "    </tr>\n",
       "    <tr>\n",
       "      <th>27955</th>\n",
       "      <td>27984</td>\n",
       "      <td>3002153</td>\n",
       "      <td>-28.564451</td>\n",
       "      <td>0</td>\n",
       "      <td>0.0</td>\n",
       "      <td>27955</td>\n",
       "      <td>-13.671874</td>\n",
       "      <td>-10.314940</td>\n",
       "      <td>-9.460448</td>\n",
       "      <td>-10.742187</td>\n",
       "      <td>...</td>\n",
       "      <td>-11.474608</td>\n",
       "      <td>-11.230468</td>\n",
       "      <td>-11.352538</td>\n",
       "      <td>-10.559081</td>\n",
       "      <td>-15.808105</td>\n",
       "      <td>-20.019529</td>\n",
       "      <td>-20.263670</td>\n",
       "      <td>-18.920897</td>\n",
       "      <td>-17.700193</td>\n",
       "      <td>-13.122558</td>\n",
       "    </tr>\n",
       "    <tr>\n",
       "      <th>27956</th>\n",
       "      <td>27985</td>\n",
       "      <td>3002265</td>\n",
       "      <td>-21.850584</td>\n",
       "      <td>0</td>\n",
       "      <td>0.0</td>\n",
       "      <td>27956</td>\n",
       "      <td>-16.845701</td>\n",
       "      <td>-18.005369</td>\n",
       "      <td>-20.568846</td>\n",
       "      <td>-21.240232</td>\n",
       "      <td>...</td>\n",
       "      <td>-7.202148</td>\n",
       "      <td>-8.789062</td>\n",
       "      <td>-8.666991</td>\n",
       "      <td>-7.934570</td>\n",
       "      <td>-8.117675</td>\n",
       "      <td>-8.117675</td>\n",
       "      <td>-12.145995</td>\n",
       "      <td>-13.671874</td>\n",
       "      <td>-15.197753</td>\n",
       "      <td>-19.470213</td>\n",
       "    </tr>\n",
       "    <tr>\n",
       "      <th>27957</th>\n",
       "      <td>27986</td>\n",
       "      <td>3002324</td>\n",
       "      <td>-17.639158</td>\n",
       "      <td>0</td>\n",
       "      <td>0.0</td>\n",
       "      <td>27957</td>\n",
       "      <td>-16.723631</td>\n",
       "      <td>-19.470213</td>\n",
       "      <td>-20.874022</td>\n",
       "      <td>-19.287107</td>\n",
       "      <td>...</td>\n",
       "      <td>-16.662596</td>\n",
       "      <td>-15.930175</td>\n",
       "      <td>-13.610839</td>\n",
       "      <td>-10.437011</td>\n",
       "      <td>-12.390136</td>\n",
       "      <td>-16.967772</td>\n",
       "      <td>-14.160155</td>\n",
       "      <td>-8.422851</td>\n",
       "      <td>-7.080078</td>\n",
       "      <td>-6.591796</td>\n",
       "    </tr>\n",
       "  </tbody>\n",
       "</table>\n",
       "<p>27958 rows × 4006 columns</p>\n",
       "</div>"
      ],
      "text/plain": [
       "       index  Time Index    Current  Label  Offset  index          0  \\\n",
       "0         29        2035 -44.067379      0     0.0      0 -32.592770   \n",
       "1         30        2083 -34.118649      0     0.0      1 -19.836424   \n",
       "2         31        2137 -39.245602      0     0.0      2 -32.531734   \n",
       "3         32        2246 -39.306637      0     0.0      3 -29.418943   \n",
       "4         33        2384 -45.349117      0     0.0      4 -41.870113   \n",
       "...      ...         ...        ...    ...     ...    ...        ...   \n",
       "27953  27982     3001799 -23.071287      0     0.0  27953 -13.549804   \n",
       "27954  27983     3001982 -22.888182      0     0.0  27954 -19.287107   \n",
       "27955  27984     3002153 -28.564451      0     0.0  27955 -13.671874   \n",
       "27956  27985     3002265 -21.850584      0     0.0  27956 -16.845701   \n",
       "27957  27986     3002324 -17.639158      0     0.0  27957 -16.723631   \n",
       "\n",
       "               1          2          3  ...       3990       3991       3992  \\\n",
       "0     -30.456541 -27.648924 -25.939939  ... -41.748043 -36.499020 -33.752438   \n",
       "1     -20.751951 -20.324705 -20.324705  ... -21.057127 -23.132322 -27.832029   \n",
       "2     -37.109371 -34.423824 -28.198240  ... -36.865231 -37.841793 -36.560055   \n",
       "3     -26.245115 -25.451658 -27.404783  ... -21.789549 -18.371580 -18.920897   \n",
       "4     -43.395992 -41.198727 -42.053219  ... -29.052732 -30.822752 -36.254879   \n",
       "...          ...        ...        ...  ...        ...        ...        ...   \n",
       "27953 -19.042967 -18.615721 -16.418455  ...  -6.286621  -7.812500  -8.728026   \n",
       "27954 -19.470213 -19.592283 -19.592283  ... -10.986327 -12.329101 -14.221190   \n",
       "27955 -10.314940  -9.460448 -10.742187  ... -11.474608 -11.230468 -11.352538   \n",
       "27956 -18.005369 -20.568846 -21.240232  ...  -7.202148  -8.789062  -8.666991   \n",
       "27957 -19.470213 -20.874022 -19.287107  ... -16.662596 -15.930175 -13.610839   \n",
       "\n",
       "            3993       3994       3995       3996       3997       3998  \\\n",
       "0     -32.836910 -33.996578 -38.574215 -40.283199 -44.860836 -49.438473   \n",
       "1     -26.733397 -25.451658 -27.893064 -29.174803 -28.869627 -32.104488   \n",
       "2     -35.217281 -32.958981 -33.142086 -33.935543 -32.775875 -32.287594   \n",
       "3     -18.432615 -18.005369 -18.432615 -21.789549 -24.841307 -23.376463   \n",
       "4     -37.841793 -31.433104 -27.587889 -26.000975 -26.550291 -26.855467   \n",
       "...          ...        ...        ...        ...        ...        ...   \n",
       "27953  -9.460448  -9.216308  -8.300780  -7.263183  -9.216308  -9.033202   \n",
       "27954 -16.662596 -14.709472 -10.437011  -9.582519 -13.183593 -13.977050   \n",
       "27955 -10.559081 -15.808105 -20.019529 -20.263670 -18.920897 -17.700193   \n",
       "27956  -7.934570  -8.117675  -8.117675 -12.145995 -13.671874 -15.197753   \n",
       "27957 -10.437011 -12.390136 -16.967772 -14.160155  -8.422851  -7.080078   \n",
       "\n",
       "            3999  \n",
       "0     -48.645016  \n",
       "1     -35.644527  \n",
       "2     -32.470699  \n",
       "3     -17.883299  \n",
       "4     -26.245115  \n",
       "...          ...  \n",
       "27953  -7.751464  \n",
       "27954 -12.145995  \n",
       "27955 -13.122558  \n",
       "27956 -19.470213  \n",
       "27957  -6.591796  \n",
       "\n",
       "[27958 rows x 4006 columns]"
      ]
     },
     "execution_count": 13,
     "metadata": {},
     "output_type": "execute_result"
    }
   ],
   "source": [
    "df"
   ]
  },
  {
   "cell_type": "code",
   "execution_count": 14,
   "id": "66234b2b",
   "metadata": {},
   "outputs": [
    {
     "data": {
      "text/plain": [
       "0    27814\n",
       "1      144\n",
       "Name: Label, dtype: int64"
      ]
     },
     "execution_count": 14,
     "metadata": {},
     "output_type": "execute_result"
    }
   ],
   "source": [
    "df['Label'].value_counts()"
   ]
  },
  {
   "cell_type": "code",
   "execution_count": 15,
   "id": "71080878",
   "metadata": {},
   "outputs": [],
   "source": [
    "X = df.iloc[:,6:].to_numpy()\n",
    "y = df['Label'].to_numpy()"
   ]
  },
  {
   "cell_type": "code",
   "execution_count": 16,
   "id": "363eced4",
   "metadata": {},
   "outputs": [],
   "source": [
    "X_train, X_test, y_train, y_test = train_test_split(X, y, test_size=0.2, random_state=42, stratify=df['Label'])"
   ]
  },
  {
   "cell_type": "code",
   "execution_count": 17,
   "id": "3b9aca9a",
   "metadata": {},
   "outputs": [],
   "source": [
    "scaler = MinMaxScaler()\n",
    "X_train_scaled = scaler.fit_transform(X_train)\n",
    "X_test_scaled = scaler.transform(X_test)"
   ]
  },
  {
   "cell_type": "code",
   "execution_count": 18,
   "id": "46d5d1b9",
   "metadata": {},
   "outputs": [
    {
     "name": "stdout",
     "output_type": "stream",
     "text": [
      "(22366, 4000)\n",
      "(22366,)\n"
     ]
    }
   ],
   "source": [
    "print(X_train.shape)\n",
    "print(y_train.shape)"
   ]
  },
  {
   "cell_type": "markdown",
   "id": "4b4d8084",
   "metadata": {},
   "source": [
    "#### Random Under-Sampling"
   ]
  },
  {
   "cell_type": "code",
   "execution_count": 19,
   "id": "391574ed",
   "metadata": {},
   "outputs": [],
   "source": [
    "rus = RandomUnderSampler(random_state=42)\n",
    "X_res, y_res = rus.fit_resample(X_train_scaled, y_train)"
   ]
  },
  {
   "cell_type": "code",
   "execution_count": 20,
   "id": "c80f22b4",
   "metadata": {
    "pycharm": {
     "name": "#%%\n"
    }
   },
   "outputs": [
    {
     "name": "stdout",
     "output_type": "stream",
     "text": [
      "(230,)\n",
      "(230, 4000)\n"
     ]
    }
   ],
   "source": [
    "print(y_res.shape)\n",
    "print(X_res.shape)"
   ]
  },
  {
   "cell_type": "markdown",
   "id": "ab931dfc",
   "metadata": {},
   "source": [
    "#### Random Over-Sampling"
   ]
  },
  {
   "cell_type": "code",
   "execution_count": 21,
   "id": "13828386",
   "metadata": {},
   "outputs": [],
   "source": [
    "over = RandomOverSampler(sampling_strategy=0.02)\n",
    "\n",
    "ros = RandomUnderSampler(random_state=42)\n",
    "X_ros, y_ros = rus.fit_resample(X_train_scaled, y_train)"
   ]
  },
  {
   "cell_type": "markdown",
   "id": "dcbaafe8",
   "metadata": {},
   "source": [
    "#### Combined Sampling"
   ]
  },
  {
   "cell_type": "code",
   "execution_count": 22,
   "id": "8b87e66c",
   "metadata": {
    "pycharm": {
     "name": "#%%\n"
    }
   },
   "outputs": [
    {
     "name": "stdout",
     "output_type": "stream",
     "text": [
      "Oversampled: Counter({0: 22251, 1: 445})\n",
      "Combined sampled: Counter({0: 2225, 1: 445})\n"
     ]
    }
   ],
   "source": [
    "over = RandomOverSampler(sampling_strategy=0.02)\n",
    "under = RandomUnderSampler(sampling_strategy=0.2)\n",
    "# first performing oversampling to minority class\n",
    "X_over, y_over = over.fit_resample(X_train_scaled, y_train)\n",
    "print(f\"Oversampled: {Counter(y_over)}\")\n",
    "#Oversampled: Counter({0: 9844, 1: 4922})\n",
    "# now to comine under sampling \n",
    "X_combined_sampling, y_combined_sampling = under.fit_resample(X_over, y_over)\n",
    "print(f\"Combined sampled: {Counter(y_combined_sampling)}\")"
   ]
  },
  {
   "cell_type": "code",
   "execution_count": 23,
   "id": "4b0d419b",
   "metadata": {},
   "outputs": [
    {
     "name": "stdout",
     "output_type": "stream",
     "text": [
      "(2670, 4000)\n",
      "(2670,)\n"
     ]
    }
   ],
   "source": [
    "print(X_combined_sampling.shape)\n",
    "print(y_combined_sampling.shape)"
   ]
  },
  {
   "cell_type": "markdown",
   "id": "50a45aa2",
   "metadata": {},
   "source": [
    "#### Model Testing"
   ]
  },
  {
   "cell_type": "code",
   "execution_count": 24,
   "id": "40990d94",
   "metadata": {},
   "outputs": [],
   "source": [
    "from xgboost import XGBClassifier\n",
    "from sklearn.model_selection import GridSearchCV\n",
    "from sklearn.model_selection import RepeatedStratifiedKFold"
   ]
  },
  {
   "cell_type": "code",
   "execution_count": null,
   "id": "74c5db77",
   "metadata": {},
   "outputs": [],
   "source": [
    "model = XGBClassifier()\n",
    "\n",
    "params = {'scale_pos_weight': [1, 10, 25, 50, 75, 99, 100, 1000]}\n",
    "\n",
    "\n",
    "cv = RepeatedStratifiedKFold(n_splits=10, n_repeats=3, random_state=42)\n",
    "\n",
    "grid = GridSearchCV(estimator=model, param_grid=params, cv=cv, scoring='roc_auc', verbose=1)\n",
    "\n",
    "grid_result = grid.fit(X_combined_sampling, y_combined_sampling)"
   ]
  },
  {
   "cell_type": "code",
   "execution_count": null,
   "id": "c96788e9",
   "metadata": {},
   "outputs": [],
   "source": [
    "grid_result"
   ]
  },
  {
   "cell_type": "code",
   "execution_count": null,
   "id": "cf58bc98",
   "metadata": {},
   "outputs": [],
   "source": []
  }
 ],
 "metadata": {
  "kernelspec": {
   "display_name": "Python [conda env:Unbalanced_IPSC_Detection] *",
   "language": "python",
   "name": "conda-env-Unbalanced_IPSC_Detection-py"
  },
  "language_info": {
   "codemirror_mode": {
    "name": "ipython",
    "version": 3
   },
   "file_extension": ".py",
   "mimetype": "text/x-python",
   "name": "python",
   "nbconvert_exporter": "python",
   "pygments_lexer": "ipython3",
   "version": "3.7.11"
  }
 },
 "nbformat": 4,
 "nbformat_minor": 5
}

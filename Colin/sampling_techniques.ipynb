{

 "cells": [
  {
   "cell_type": "code",
   "execution_count": 1,
   "id": "499bbb99",
   "metadata": {},
   "outputs": [],
   "source": [
    "from training_set_class import *\n",
    "import seaborn as sns\n",
    "from imblearn.under_sampling import RandomUnderSampler\n",
    "from imblearn.over_sampling import RandomOverSampler\n",
    "from sklearn.model_selection import train_test_split\n",
    "from collections import Counter\n",
    "from sklearn.preprocessing import MinMaxScaler"
   ]
  },
  {
   "cell_type": "code",
   "execution_count": 2,
   "id": "f3d768c9",
   "metadata": {},
   "outputs": [
    {
     "name": "stderr",
     "output_type": "stream",
     "text": [
      "100%|████████████████████████████████| 27958/27958 [00:00<00:00, 1020692.95it/s]\n"
     ]
    }
   ],
   "source": [
    "abf = r'/Users/colinmason/Box/2021Colin Mason/MarvinDiaz/Cerebellum - granule cells/2011_04_12_0003.abf'\n",
    "labs_path = r'/Users/colinmason/Box/2021Colin Mason/Summer Mini Analysis Labelling/Abf Files Data Labelling.abf.xlsx'\n",
    "labs_xlsx = pd.ExcelFile(labs_path)\n",
    "\n",
    "test1 = TrainingData(labs_xlsx, 'Crblm 0003 Unflitered', abf)"
   ]
  },
  {
   "cell_type": "code",
   "execution_count": 3,
   "id": "67bff97d",
   "metadata": {},
   "outputs": [],
   "source": [
    "df = test1.traces"
   ]
  },
  {
   "cell_type": "code",
   "execution_count": 4,
   "id": "30215e31",
   "metadata": {},
   "outputs": [
    {
     "data": {
      "text/html": [
       "<div>\n",
       "<style scoped>\n",
       "    .dataframe tbody tr th:only-of-type {\n",
       "        vertical-align: middle;\n",
       "    }\n",
       "\n",
       "    .dataframe tbody tr th {\n",
       "        vertical-align: top;\n",
       "    }\n",
       "\n",
       "    .dataframe thead th {\n",
       "        text-align: right;\n",
       "    }\n",
       "</style>\n",
       "<table border=\"1\" class=\"dataframe\">\n",
       "  <thead>\n",
       "    <tr style=\"text-align: right;\">\n",
       "      <th></th>\n",
       "      <th>index</th>\n",
       "      <th>Time Index</th>\n",
       "      <th>Current</th>\n",
       "      <th>Label</th>\n",
       "      <th>Offset</th>\n",
       "      <th>index</th>\n",
       "      <th>0</th>\n",
       "      <th>1</th>\n",
       "      <th>2</th>\n",
       "      <th>3</th>\n",
       "      <th>...</th>\n",
       "      <th>3990</th>\n",
       "      <th>3991</th>\n",
       "      <th>3992</th>\n",
       "      <th>3993</th>\n",
       "      <th>3994</th>\n",
       "      <th>3995</th>\n",
       "      <th>3996</th>\n",
       "      <th>3997</th>\n",
       "      <th>3998</th>\n",
       "      <th>3999</th>\n",
       "    </tr>\n",
       "  </thead>\n",
       "  <tbody>\n",
       "    <tr>\n",
       "      <th>0</th>\n",
       "      <td>29</td>\n",
       "      <td>2035</td>\n",
       "      <td>-44.067379</td>\n",
       "      <td>0</td>\n",
       "      <td>0.0</td>\n",
       "      <td>0</td>\n",
       "      <td>-32.592770</td>\n",
       "      <td>-30.456541</td>\n",
       "      <td>-27.648924</td>\n",
       "      <td>-25.939939</td>\n",
       "      <td>...</td>\n",
       "      <td>-41.748043</td>\n",
       "      <td>-36.499020</td>\n",
       "      <td>-33.752438</td>\n",
       "      <td>-32.836910</td>\n",
       "      <td>-33.996578</td>\n",
       "      <td>-38.574215</td>\n",
       "      <td>-40.283199</td>\n",
       "      <td>-44.860836</td>\n",
       "      <td>-49.438473</td>\n",
       "      <td>-48.645016</td>\n",
       "    </tr>\n",
       "    <tr>\n",
       "      <th>1</th>\n",
       "      <td>30</td>\n",
       "      <td>2083</td>\n",
       "      <td>-34.118649</td>\n",
       "      <td>0</td>\n",
       "      <td>0.0</td>\n",
       "      <td>1</td>\n",
       "      <td>-19.836424</td>\n",
       "      <td>-20.751951</td>\n",
       "      <td>-20.324705</td>\n",
       "      <td>-20.324705</td>\n",
       "      <td>...</td>\n",
       "      <td>-21.057127</td>\n",
       "      <td>-23.132322</td>\n",
       "      <td>-27.832029</td>\n",
       "      <td>-26.733397</td>\n",
       "      <td>-25.451658</td>\n",
       "      <td>-27.893064</td>\n",
       "      <td>-29.174803</td>\n",
       "      <td>-28.869627</td>\n",
       "      <td>-32.104488</td>\n",
       "      <td>-35.644527</td>\n",
       "    </tr>\n",
       "    <tr>\n",
       "      <th>2</th>\n",
       "      <td>31</td>\n",
       "      <td>2137</td>\n",
       "      <td>-39.245602</td>\n",
       "      <td>0</td>\n",
       "      <td>0.0</td>\n",
       "      <td>2</td>\n",
       "      <td>-32.531734</td>\n",
       "      <td>-37.109371</td>\n",
       "      <td>-34.423824</td>\n",
       "      <td>-28.198240</td>\n",
       "      <td>...</td>\n",
       "      <td>-36.865231</td>\n",
       "      <td>-37.841793</td>\n",
       "      <td>-36.560055</td>\n",
       "      <td>-35.217281</td>\n",
       "      <td>-32.958981</td>\n",
       "      <td>-33.142086</td>\n",
       "      <td>-33.935543</td>\n",
       "      <td>-32.775875</td>\n",
       "      <td>-32.287594</td>\n",
       "      <td>-32.470699</td>\n",
       "    </tr>\n",
       "    <tr>\n",
       "      <th>3</th>\n",
       "      <td>32</td>\n",
       "      <td>2246</td>\n",
       "      <td>-39.306637</td>\n",
       "      <td>0</td>\n",
       "      <td>0.0</td>\n",
       "      <td>3</td>\n",
       "      <td>-29.418943</td>\n",
       "      <td>-26.245115</td>\n",
       "      <td>-25.451658</td>\n",
       "      <td>-27.404783</td>\n",
       "      <td>...</td>\n",
       "      <td>-21.789549</td>\n",
       "      <td>-18.371580</td>\n",
       "      <td>-18.920897</td>\n",
       "      <td>-18.432615</td>\n",
       "      <td>-18.005369</td>\n",
       "      <td>-18.432615</td>\n",
       "      <td>-21.789549</td>\n",
       "      <td>-24.841307</td>\n",
       "      <td>-23.376463</td>\n",
       "      <td>-17.883299</td>\n",
       "    </tr>\n",
       "    <tr>\n",
       "      <th>4</th>\n",
       "      <td>33</td>\n",
       "      <td>2384</td>\n",
       "      <td>-45.349117</td>\n",
       "      <td>0</td>\n",
       "      <td>0.0</td>\n",
       "      <td>4</td>\n",
       "      <td>-41.870113</td>\n",
       "      <td>-43.395992</td>\n",
       "      <td>-41.198727</td>\n",
       "      <td>-42.053219</td>\n",
       "      <td>...</td>\n",
       "      <td>-29.052732</td>\n",
       "      <td>-30.822752</td>\n",
       "      <td>-36.254879</td>\n",
       "      <td>-37.841793</td>\n",
       "      <td>-31.433104</td>\n",
       "      <td>-27.587889</td>\n",
       "      <td>-26.000975</td>\n",
       "      <td>-26.550291</td>\n",
       "      <td>-26.855467</td>\n",
       "      <td>-26.245115</td>\n",
       "    </tr>\n",
       "    <tr>\n",
       "      <th>...</th>\n",
       "      <td>...</td>\n",
       "      <td>...</td>\n",
       "      <td>...</td>\n",
       "      <td>...</td>\n",
       "      <td>...</td>\n",
       "      <td>...</td>\n",
       "      <td>...</td>\n",
       "      <td>...</td>\n",
       "      <td>...</td>\n",
       "      <td>...</td>\n",
       "      <td>...</td>\n",
       "      <td>...</td>\n",
       "      <td>...</td>\n",
       "      <td>...</td>\n",
       "      <td>...</td>\n",
       "      <td>...</td>\n",
       "      <td>...</td>\n",
       "      <td>...</td>\n",
       "      <td>...</td>\n",
       "      <td>...</td>\n",
       "      <td>...</td>\n",
       "    </tr>\n",
       "    <tr>\n",
       "      <th>27953</th>\n",
       "      <td>27982</td>\n",
       "      <td>3001799</td>\n",
       "      <td>-23.071287</td>\n",
       "      <td>0</td>\n",
       "      <td>0.0</td>\n",
       "      <td>27953</td>\n",
       "      <td>-13.549804</td>\n",
       "      <td>-19.042967</td>\n",
       "      <td>-18.615721</td>\n",
       "      <td>-16.418455</td>\n",
       "      <td>...</td>\n",
       "      <td>-6.286621</td>\n",
       "      <td>-7.812500</td>\n",
       "      <td>-8.728026</td>\n",
       "      <td>-9.460448</td>\n",
       "      <td>-9.216308</td>\n",
       "      <td>-8.300780</td>\n",
       "      <td>-7.263183</td>\n",
       "      <td>-9.216308</td>\n",
       "      <td>-9.033202</td>\n",
       "      <td>-7.751464</td>\n",
       "    </tr>\n",
       "    <tr>\n",
       "      <th>27954</th>\n",
       "      <td>27983</td>\n",
       "      <td>3001982</td>\n",
       "      <td>-22.888182</td>\n",
       "      <td>0</td>\n",
       "      <td>0.0</td>\n",
       "      <td>27954</td>\n",
       "      <td>-19.287107</td>\n",
       "      <td>-19.470213</td>\n",
       "      <td>-19.592283</td>\n",
       "      <td>-19.592283</td>\n",
       "      <td>...</td>\n",
       "      <td>-10.986327</td>\n",
       "      <td>-12.329101</td>\n",
       "      <td>-14.221190</td>\n",
       "      <td>-16.662596</td>\n",
       "      <td>-14.709472</td>\n",
       "      <td>-10.437011</td>\n",
       "      <td>-9.582519</td>\n",
       "      <td>-13.183593</td>\n",
       "      <td>-13.977050</td>\n",
       "      <td>-12.145995</td>\n",
       "    </tr>\n",
       "    <tr>\n",
       "      <th>27955</th>\n",
       "      <td>27984</td>\n",
       "      <td>3002153</td>\n",
       "      <td>-28.564451</td>\n",
       "      <td>0</td>\n",
       "      <td>0.0</td>\n",
       "      <td>27955</td>\n",
       "      <td>-13.671874</td>\n",
       "      <td>-10.314940</td>\n",
       "      <td>-9.460448</td>\n",
       "      <td>-10.742187</td>\n",
       "      <td>...</td>\n",
       "      <td>-11.474608</td>\n",
       "      <td>-11.230468</td>\n",
       "      <td>-11.352538</td>\n",
       "      <td>-10.559081</td>\n",
       "      <td>-15.808105</td>\n",
       "      <td>-20.019529</td>\n",
       "      <td>-20.263670</td>\n",
       "      <td>-18.920897</td>\n",
       "      <td>-17.700193</td>\n",
       "      <td>-13.122558</td>\n",
       "    </tr>\n",
       "    <tr>\n",
       "      <th>27956</th>\n",
       "      <td>27985</td>\n",
       "      <td>3002265</td>\n",
       "      <td>-21.850584</td>\n",
       "      <td>0</td>\n",
       "      <td>0.0</td>\n",
       "      <td>27956</td>\n",
       "      <td>-16.845701</td>\n",
       "      <td>-18.005369</td>\n",
       "      <td>-20.568846</td>\n",
       "      <td>-21.240232</td>\n",
       "      <td>...</td>\n",
       "      <td>-7.202148</td>\n",
       "      <td>-8.789062</td>\n",
       "      <td>-8.666991</td>\n",
       "      <td>-7.934570</td>\n",
       "      <td>-8.117675</td>\n",
       "      <td>-8.117675</td>\n",
       "      <td>-12.145995</td>\n",
       "      <td>-13.671874</td>\n",
       "      <td>-15.197753</td>\n",
       "      <td>-19.470213</td>\n",
       "    </tr>\n",
       "    <tr>\n",
       "      <th>27957</th>\n",
       "      <td>27986</td>\n",
       "      <td>3002324</td>\n",
       "      <td>-17.639158</td>\n",
       "      <td>0</td>\n",
       "      <td>0.0</td>\n",
       "      <td>27957</td>\n",
       "      <td>-16.723631</td>\n",
       "      <td>-19.470213</td>\n",
       "      <td>-20.874022</td>\n",
       "      <td>-19.287107</td>\n",
       "      <td>...</td>\n",
       "      <td>-16.662596</td>\n",
       "      <td>-15.930175</td>\n",
       "      <td>-13.610839</td>\n",
       "      <td>-10.437011</td>\n",
       "      <td>-12.390136</td>\n",
       "      <td>-16.967772</td>\n",
       "      <td>-14.160155</td>\n",
       "      <td>-8.422851</td>\n",
       "      <td>-7.080078</td>\n",
       "      <td>-6.591796</td>\n",
       "    </tr>\n",
       "  </tbody>\n",
       "</table>\n",
       "<p>27958 rows × 4006 columns</p>\n",
       "</div>"
      ],
      "text/plain": [
       "       index  Time Index    Current  Label  Offset  index          0  \\\n",
       "0         29        2035 -44.067379      0     0.0      0 -32.592770   \n",
       "1         30        2083 -34.118649      0     0.0      1 -19.836424   \n",
       "2         31        2137 -39.245602      0     0.0      2 -32.531734   \n",
       "3         32        2246 -39.306637      0     0.0      3 -29.418943   \n",
       "4         33        2384 -45.349117      0     0.0      4 -41.870113   \n",
       "...      ...         ...        ...    ...     ...    ...        ...   \n",
       "27953  27982     3001799 -23.071287      0     0.0  27953 -13.549804   \n",
       "27954  27983     3001982 -22.888182      0     0.0  27954 -19.287107   \n",
       "27955  27984     3002153 -28.564451      0     0.0  27955 -13.671874   \n",
       "27956  27985     3002265 -21.850584      0     0.0  27956 -16.845701   \n",
       "27957  27986     3002324 -17.639158      0     0.0  27957 -16.723631   \n",
       "\n",
       "               1          2          3  ...       3990       3991       3992  \\\n",
       "0     -30.456541 -27.648924 -25.939939  ... -41.748043 -36.499020 -33.752438   \n",
       "1     -20.751951 -20.324705 -20.324705  ... -21.057127 -23.132322 -27.832029   \n",
       "2     -37.109371 -34.423824 -28.198240  ... -36.865231 -37.841793 -36.560055   \n",
       "3     -26.245115 -25.451658 -27.404783  ... -21.789549 -18.371580 -18.920897   \n",
       "4     -43.395992 -41.198727 -42.053219  ... -29.052732 -30.822752 -36.254879   \n",
       "...          ...        ...        ...  ...        ...        ...        ...   \n",
       "27953 -19.042967 -18.615721 -16.418455  ...  -6.286621  -7.812500  -8.728026   \n",
       "27954 -19.470213 -19.592283 -19.592283  ... -10.986327 -12.329101 -14.221190   \n",
       "27955 -10.314940  -9.460448 -10.742187  ... -11.474608 -11.230468 -11.352538   \n",
       "27956 -18.005369 -20.568846 -21.240232  ...  -7.202148  -8.789062  -8.666991   \n",
       "27957 -19.470213 -20.874022 -19.287107  ... -16.662596 -15.930175 -13.610839   \n",
       "\n",
       "            3993       3994       3995       3996       3997       3998  \\\n",
       "0     -32.836910 -33.996578 -38.574215 -40.283199 -44.860836 -49.438473   \n",
       "1     -26.733397 -25.451658 -27.893064 -29.174803 -28.869627 -32.104488   \n",
       "2     -35.217281 -32.958981 -33.142086 -33.935543 -32.775875 -32.287594   \n",
       "3     -18.432615 -18.005369 -18.432615 -21.789549 -24.841307 -23.376463   \n",
       "4     -37.841793 -31.433104 -27.587889 -26.000975 -26.550291 -26.855467   \n",
       "...          ...        ...        ...        ...        ...        ...   \n",
       "27953  -9.460448  -9.216308  -8.300780  -7.263183  -9.216308  -9.033202   \n",
       "27954 -16.662596 -14.709472 -10.437011  -9.582519 -13.183593 -13.977050   \n",
       "27955 -10.559081 -15.808105 -20.019529 -20.263670 -18.920897 -17.700193   \n",
       "27956  -7.934570  -8.117675  -8.117675 -12.145995 -13.671874 -15.197753   \n",
       "27957 -10.437011 -12.390136 -16.967772 -14.160155  -8.422851  -7.080078   \n",
       "\n",
       "            3999  \n",
       "0     -48.645016  \n",
       "1     -35.644527  \n",
       "2     -32.470699  \n",
       "3     -17.883299  \n",
       "4     -26.245115  \n",
       "...          ...  \n",
       "27953  -7.751464  \n",
       "27954 -12.145995  \n",
       "27955 -13.122558  \n",
       "27956 -19.470213  \n",
       "27957  -6.591796  \n",
       "\n",
       "[27958 rows x 4006 columns]"
      ]
     },
     "execution_count": 4,
     "metadata": {},
     "output_type": "execute_result"
    }
   ],
   "source": [
    "df"
   ]
  },
  {
   "cell_type": "code",
   "execution_count": 5,
   "id": "4f78a5ff",
   "metadata": {},
   "outputs": [
    {
     "data": {
      "text/plain": [
       "0    27814\n",
       "1      144\n",
       "Name: Label, dtype: int64"
      ]
     },
     "execution_count": 5,
     "metadata": {},
     "output_type": "execute_result"
    }
   ],
   "source": [
    "df['Label'].value_counts()"
   ]
  },
  {
   "cell_type": "code",
   "execution_count": 13,
   "id": "0ae757b7",
   "metadata": {},
   "outputs": [],
   "source": [
    "X = df.iloc[:,6:].to_numpy()\n",
    "y = df['Label'].to_numpy()"
   ]
  },
  {
   "cell_type": "code",
   "execution_count": 16,
   "id": "4cdbf148",
   "metadata": {},
   "outputs": [
    {
     "data": {
      "text/plain": [
       "(27958, 4000)"
      ]
     },
     "execution_count": 16,
     "metadata": {},
     "output_type": "execute_result"
    }
   ],
   "source": [
    "X.shape"
   ]
  },
  {
   "cell_type": "code",
   "execution_count": 14,
   "id": "26ef5d9f",
   "metadata": {},
   "outputs": [],
   "source": [
    "X_train, X_test, y_train, y_test = train_test_split(X, y, test_size=0.2, random_state=42, stratify=df['Label'])"
   ]
  },
  {
   "cell_type": "code",
   "execution_count": 24,
   "id": "23dcb2d5",
   "metadata": {},
   "outputs": [
    {
     "data": {
      "text/plain": [
       "array([[-36.6821, -33.5693, -31.8603, ..., -20.3857, -18.3716, -19.8364],\n",
       "       [-13.6719, -12.085 , -13.5498, ...,  -8.2397, -12.7563, -14.3433],\n",
       "       [-26.9775, -27.0996, -28.2593, ..., -23.2544, -21.7285, -21.7285],\n",
       "       ...,\n",
       "       [ -4.2725,  -2.6855,  -3.6011, ..., -11.7798, -11.8408, -10.1318],\n",
       "       [ -6.958 ,  -8.667 , -11.0474, ...,  -8.4839, -12.207 ,  -9.2773],\n",
       "       [-30.5176, -29.7241, -33.0811, ..., -28.8086, -32.8369, -34.0576]],\n",
       "      dtype=float32)"
      ]
     },
     "execution_count": 24,
     "metadata": {},
     "output_type": "execute_result"
    }
   ],
   "source": [
    "X_train"
   ]
  },
  {
   "cell_type": "code",
   "execution_count": 22,
   "id": "8d01c58a",
   "metadata": {},
   "outputs": [],
   "source": [
    "scaler = MinMaxScaler()\n",
    "X_train_scaled = scaler.fit_transform(X_train)\n",
    "X_test_scaled = scaler.transform(X_test)"
   ]
  },
  {
   "cell_type": "code",
   "execution_count": 25,
   "id": "aef71d0a",
   "metadata": {},
   "outputs": [
    {
     "name": "stdout",
     "output_type": "stream",
     "text": [
      "(22366, 4000)\n",
      "(22366,)\n"
     ]
    }
   ],
   "source": [
    "print(X_train.shape)\n",
    "print(y_train.shape)"
   ]
  },
  {
   "cell_type": "markdown",
   "id": "0baf5191",
   "metadata": {},
   "source": [
    "#### Random Under-Sampling"
   ]
  },
  {
   "cell_type": "code",
   "execution_count": 26,
   "id": "a4d3b60a",
   "metadata": {},
   "outputs": [],
   "source": [
    "rus = RandomUnderSampler(random_state=42)\n",
    "X_res, y_res = rus.fit_resample(X_train_scaled, y_train)"
   ]
  },
  {
   "cell_type": "code",
   "execution_count": 27,
   "id": "fddea791",
   "metadata": {
    "pycharm": {
     "name": "#%%\n"
    }
   },
   "outputs": [
    {
     "name": "stdout",
     "output_type": "stream",
     "text": [
      "(230,)\n",
      "(230, 4000)\n"
     ]
    }
   ],
   "source": [
    "print(y_res.shape)\n",
    "print(X_res.shape)"
   ]
  },
  {
   "cell_type": "markdown",
   "id": "dfc79786",
   "metadata": {},
   "source": [
    "#### Random Over-Sampling"
   ]
  },
  {
   "cell_type": "code",
   "execution_count": 21,
   "id": "2eef97dc",
   "metadata": {},
   "outputs": [],
   "source": [
    "over = RandomOverSampler(sampling_strategy=0.02)\n",
    "\n",
    "ros = RandomUnderSampler(random_state=42)\n",
    "X_ros, y_ros = rus.fit_resample(X_train_scaled, y_train)"
   ]
  },
  {
   "cell_type": "markdown",
   "id": "8ab0280f",
   "metadata": {},
   "source": [
    "#### Combined Sampling"
   ]
  },
  {
   "cell_type": "code",
   "execution_count": 32,
   "id": "20947d2d",
   "metadata": {
    "pycharm": {
     "name": "#%%\n"
    }
   },
   "outputs": [
    {
     "name": "stdout",
     "output_type": "stream",
     "text": [
      "Oversampled: Counter({0: 22251, 1: 445})\n",
      "Combined sampled: Counter({0: 4450, 1: 445})\n"
     ]
    }
   ],
   "source": [
    "over = RandomOverSampler(sampling_strategy=0.02)\n",
    "under = RandomUnderSampler(sampling_strategy=0.1)\n",
    "# first performing oversampling to minority class\n",
    "X_over, y_over = over.fit_resample(X_train_scaled, y_train)\n",
    "print(f\"Oversampled: {Counter(y_over)}\")\n",
    "#Oversampled: Counter({0: 9844, 1: 4922})\n",
    "# now to comine under sampling \n",
    "X_combined_sampling, y_combined_sampling = under.fit_resample(X_over, y_over)\n",
    "print(f\"Combined sampled: {Counter(y_combined_sampling)}\")"
   ]
  },
  {
   "cell_type": "code",
   "execution_count": 33,
   "id": "f6ba10d0",
   "metadata": {},
   "outputs": [
    {
     "name": "stdout",
     "output_type": "stream",
     "text": [
      "(4895, 4000)\n",
      "(4895,)\n"
     ]
    }
   ],
   "source": [
    "print(X_combined_sampling.shape)\n",
    "print(y_combined_sampling.shape)"
   ]
  },
  {
   "cell_type": "markdown",
   "id": "be9c5b99",
   "metadata": {},
   "source": [
    "#### Model Testing"
   ]
  },
  {
   "cell_type": "code",
   "execution_count": 24,
   "id": "758d1d1b",
   "metadata": {},
   "outputs": [],
   "source": [
    "from xgboost import XGBClassifier\n",
    "from sklearn.model_selection import GridSearchCV\n",
    "from sklearn.model_selection import RepeatedStratifiedKFold"
   ]
  },
  {
   "cell_type": "code",
   "execution_count": null,
   "id": "0e9bd786",
   "metadata": {},
   "outputs": [],
   "source": [
    "model = XGBClassifier()\n",
    "\n",
    "params = {'scale_pos_weight': [1, 10, 25, 50, 75, 99, 100, 1000]}\n",
    "\n",
    "\n",
    "cv = RepeatedStratifiedKFold(n_splits=10, n_repeats=3, random_state=42)\n",
    "\n",
    "grid = GridSearchCV(estimator=model, param_grid=params, cv=cv, scoring='roc_auc', verbose=1)\n",
    "\n",
    "grid_result = grid.fit(X_combined_sampling, y_combined_sampling)"
   ]
  },
  {
   "cell_type": "code",
   "execution_count": null,
   "id": "cbcaca95",
   "metadata": {},
   "outputs": [],
   "source": [
    "grid_result"
   ]
  },
  {
   "cell_type": "code",
   "execution_count": null,
   "id": "0d8b1bf8",
   "metadata": {},
   "outputs": [],
   "source": []
  }
 ],
 "metadata": {
  "kernelspec": {
   "display_name": "Python [conda env:Unbalanced_IPSC_Detection] *",
   "language": "python",
   "name": "conda-env-Unbalanced_IPSC_Detection-py"
  },
  "language_info": {
   "codemirror_mode": {
    "name": "ipython",
    "version": 3
   },
   "file_extension": ".py",
   "mimetype": "text/x-python",
   "name": "python",
   "nbconvert_exporter": "python",
   "pygments_lexer": "ipython3",
   "version": "3.7.11"
  }
 },
 "nbformat": 4,
 "nbformat_minor": 5
=======
  "nbformat": 4,
  "nbformat_minor": 5,
  "metadata": {
    "kernelspec": {
      "display_name": "Python [conda env:Unbalanced_IPSC_Detection]",
      "language": "python",
      "name": "conda-env-Unbalanced_IPSC_Detection-py"
    },
    "language_info": {
      "codemirror_mode": {
        "name": "ipython",
        "version": 3
      },
      "file_extension": ".py",
      "mimetype": "text/x-python",
      "name": "python",
      "nbconvert_exporter": "python",
      "pygments_lexer": "ipython3",
      "version": "3.7.11"
    },
    "colab": {
      "name": "sampling_techniques.ipynb",
      "provenance": [],
      "machine_shape": "hm"
    },
    "accelerator": "GPU"
  },
  "cells": [
    {
      "cell_type": "code",
      "metadata": {
        "colab": {
          "base_uri": "https://localhost:8080/"
        },
        "id": "_9OrjA1b5gNY",
        "outputId": "19d3acf3-e11d-47db-98ac-48d6c115b8a9"
      },
      "source": [
        "from google.colab import drive\n",
        "drive.mount('/content/drive')"
      ],
      "id": "_9OrjA1b5gNY",
      "execution_count": 1,
      "outputs": [
        {
          "output_type": "stream",
          "name": "stdout",
          "text": [
            "Drive already mounted at /content/drive; to attempt to forcibly remount, call drive.mount(\"/content/drive\", force_remount=True).\n"
          ]
        }
      ]
    },
    {
      "cell_type": "code",
      "metadata": {
        "id": "3u3UBuhp52HK"
      },
      "source": [
        "import sys\n",
        "sys.path.append('/content/drive/MyDrive/yorglab/Unbalanced_IPSC_Detection/Colin/')"
      ],
      "id": "3u3UBuhp52HK",
      "execution_count": 2,
      "outputs": []
    },
    {
      "cell_type": "code",
      "metadata": {
        "colab": {
          "base_uri": "https://localhost:8080/"
        },
        "id": "n1Le91yd6A5Z",
        "outputId": "35e70a08-f86c-4559-8417-ed6d41b5718a"
      },
      "source": [
        "%pip install pyabf"
      ],
      "id": "n1Le91yd6A5Z",
      "execution_count": 3,
      "outputs": [
        {
          "output_type": "stream",
          "name": "stdout",
          "text": [
            "Requirement already satisfied: pyabf in /usr/local/lib/python3.7/dist-packages (2.3.5)\n",
            "Requirement already satisfied: matplotlib>=2.1.0 in /usr/local/lib/python3.7/dist-packages (from pyabf) (3.2.2)\n",
            "Requirement already satisfied: pytest>=3.0.7 in /usr/local/lib/python3.7/dist-packages (from pyabf) (3.6.4)\n",
            "Requirement already satisfied: numpy>=1.13.3 in /usr/local/lib/python3.7/dist-packages (from pyabf) (1.19.5)\n",
            "Requirement already satisfied: pyparsing!=2.0.4,!=2.1.2,!=2.1.6,>=2.0.1 in /usr/local/lib/python3.7/dist-packages (from matplotlib>=2.1.0->pyabf) (3.0.6)\n",
            "Requirement already satisfied: python-dateutil>=2.1 in /usr/local/lib/python3.7/dist-packages (from matplotlib>=2.1.0->pyabf) (2.8.2)\n",
            "Requirement already satisfied: kiwisolver>=1.0.1 in /usr/local/lib/python3.7/dist-packages (from matplotlib>=2.1.0->pyabf) (1.3.2)\n",
            "Requirement already satisfied: cycler>=0.10 in /usr/local/lib/python3.7/dist-packages (from matplotlib>=2.1.0->pyabf) (0.11.0)\n",
            "Requirement already satisfied: py>=1.5.0 in /usr/local/lib/python3.7/dist-packages (from pytest>=3.0.7->pyabf) (1.11.0)\n",
            "Requirement already satisfied: atomicwrites>=1.0 in /usr/local/lib/python3.7/dist-packages (from pytest>=3.0.7->pyabf) (1.4.0)\n",
            "Requirement already satisfied: attrs>=17.4.0 in /usr/local/lib/python3.7/dist-packages (from pytest>=3.0.7->pyabf) (21.2.0)\n",
            "Requirement already satisfied: setuptools in /usr/local/lib/python3.7/dist-packages (from pytest>=3.0.7->pyabf) (57.4.0)\n",
            "Requirement already satisfied: six>=1.10.0 in /usr/local/lib/python3.7/dist-packages (from pytest>=3.0.7->pyabf) (1.15.0)\n",
            "Requirement already satisfied: more-itertools>=4.0.0 in /usr/local/lib/python3.7/dist-packages (from pytest>=3.0.7->pyabf) (8.11.0)\n",
            "Requirement already satisfied: pluggy<0.8,>=0.5 in /usr/local/lib/python3.7/dist-packages (from pytest>=3.0.7->pyabf) (0.7.1)\n"
          ]
        }
      ]
    },
    {
      "cell_type": "code",
      "metadata": {
        "id": "499bbb99"
      },
      "source": [
        "from training_set_class import *\n",
        "import seaborn as sns\n",
        "from imblearn.under_sampling import RandomUnderSampler\n",
        "from imblearn.over_sampling import RandomOverSampler\n",
        "from sklearn.model_selection import train_test_split\n",
        "from collections import Counter\n",
        "from sklearn.preprocessing import MinMaxScaler"
      ],
      "id": "499bbb99",
      "execution_count": 4,
      "outputs": []
    },
    {
      "cell_type": "code",
      "metadata": {
        "colab": {
          "base_uri": "https://localhost:8080/"
        },
        "id": "f3d768c9",
        "outputId": "449e1453-8129-4624-bdbf-00558b96292d"
      },
      "source": [
        "abf_path = r'/content/drive/MyDrive/yorglab/Unbalanced_IPSC_Detection/Colin/ceb_2011_04_12_0003.abf'\n",
        "labs_path = r'/content/drive/MyDrive/yorglab/Unbalanced_IPSC_Detection/Colin/Abf Files Data Labelling.abf.xlsx'\n",
        "labs_xlsx = pd.ExcelFile(labs_path)\n",
        "\n",
        "test1 = TrainingData(labs_xlsx, 'Crblm 0003 Unflitered', abf_path)"
      ],
      "id": "f3d768c9",
      "execution_count": 5,
      "outputs": [
        {
          "output_type": "stream",
          "name": "stderr",
          "text": [
            "100%|██████████| 27958/27958 [00:00<00:00, 1298651.69it/s]\n"
          ]
        }
      ]
    },
    {
      "cell_type": "code",
      "metadata": {
        "id": "67bff97d"
      },
      "source": [
        "df = test1.traces"
      ],
      "id": "67bff97d",
      "execution_count": 6,
      "outputs": []
    },
    {
      "cell_type": "code",
      "metadata": {
        "colab": {
          "base_uri": "https://localhost:8080/",
          "height": 456
        },
        "id": "30215e31",
        "outputId": "5017c5f7-aa3d-45b6-badd-269d47327eb0"
      },
      "source": [
        "df"
      ],
      "id": "30215e31",
      "execution_count": 7,
      "outputs": [
        {
          "output_type": "execute_result",
          "data": {
            "text/html": [
              "<div>\n",
              "<style scoped>\n",
              "    .dataframe tbody tr th:only-of-type {\n",
              "        vertical-align: middle;\n",
              "    }\n",
              "\n",
              "    .dataframe tbody tr th {\n",
              "        vertical-align: top;\n",
              "    }\n",
              "\n",
              "    .dataframe thead th {\n",
              "        text-align: right;\n",
              "    }\n",
              "</style>\n",
              "<table border=\"1\" class=\"dataframe\">\n",
              "  <thead>\n",
              "    <tr style=\"text-align: right;\">\n",
              "      <th></th>\n",
              "      <th>index</th>\n",
              "      <th>Time Index</th>\n",
              "      <th>Current</th>\n",
              "      <th>Label</th>\n",
              "      <th>Offset</th>\n",
              "      <th>index</th>\n",
              "      <th>0</th>\n",
              "      <th>1</th>\n",
              "      <th>2</th>\n",
              "      <th>3</th>\n",
              "      <th>4</th>\n",
              "      <th>5</th>\n",
              "      <th>6</th>\n",
              "      <th>7</th>\n",
              "      <th>8</th>\n",
              "      <th>9</th>\n",
              "      <th>10</th>\n",
              "      <th>11</th>\n",
              "      <th>12</th>\n",
              "      <th>13</th>\n",
              "      <th>14</th>\n",
              "      <th>15</th>\n",
              "      <th>16</th>\n",
              "      <th>17</th>\n",
              "      <th>18</th>\n",
              "      <th>19</th>\n",
              "      <th>20</th>\n",
              "      <th>21</th>\n",
              "      <th>22</th>\n",
              "      <th>23</th>\n",
              "      <th>24</th>\n",
              "      <th>25</th>\n",
              "      <th>26</th>\n",
              "      <th>27</th>\n",
              "      <th>28</th>\n",
              "      <th>29</th>\n",
              "      <th>30</th>\n",
              "      <th>31</th>\n",
              "      <th>32</th>\n",
              "      <th>33</th>\n",
              "      <th>...</th>\n",
              "      <th>3960</th>\n",
              "      <th>3961</th>\n",
              "      <th>3962</th>\n",
              "      <th>3963</th>\n",
              "      <th>3964</th>\n",
              "      <th>3965</th>\n",
              "      <th>3966</th>\n",
              "      <th>3967</th>\n",
              "      <th>3968</th>\n",
              "      <th>3969</th>\n",
              "      <th>3970</th>\n",
              "      <th>3971</th>\n",
              "      <th>3972</th>\n",
              "      <th>3973</th>\n",
              "      <th>3974</th>\n",
              "      <th>3975</th>\n",
              "      <th>3976</th>\n",
              "      <th>3977</th>\n",
              "      <th>3978</th>\n",
              "      <th>3979</th>\n",
              "      <th>3980</th>\n",
              "      <th>3981</th>\n",
              "      <th>3982</th>\n",
              "      <th>3983</th>\n",
              "      <th>3984</th>\n",
              "      <th>3985</th>\n",
              "      <th>3986</th>\n",
              "      <th>3987</th>\n",
              "      <th>3988</th>\n",
              "      <th>3989</th>\n",
              "      <th>3990</th>\n",
              "      <th>3991</th>\n",
              "      <th>3992</th>\n",
              "      <th>3993</th>\n",
              "      <th>3994</th>\n",
              "      <th>3995</th>\n",
              "      <th>3996</th>\n",
              "      <th>3997</th>\n",
              "      <th>3998</th>\n",
              "      <th>3999</th>\n",
              "    </tr>\n",
              "  </thead>\n",
              "  <tbody>\n",
              "    <tr>\n",
              "      <th>0</th>\n",
              "      <td>29</td>\n",
              "      <td>2035</td>\n",
              "      <td>-44.067379</td>\n",
              "      <td>0</td>\n",
              "      <td>0.0</td>\n",
              "      <td>0</td>\n",
              "      <td>-32.592770</td>\n",
              "      <td>-30.456541</td>\n",
              "      <td>-27.648924</td>\n",
              "      <td>-25.939939</td>\n",
              "      <td>-23.620604</td>\n",
              "      <td>-21.545408</td>\n",
              "      <td>-26.062010</td>\n",
              "      <td>-26.672361</td>\n",
              "      <td>-23.742674</td>\n",
              "      <td>-21.728514</td>\n",
              "      <td>-22.216795</td>\n",
              "      <td>-23.498533</td>\n",
              "      <td>-24.658201</td>\n",
              "      <td>-19.592283</td>\n",
              "      <td>-15.563964</td>\n",
              "      <td>-16.845701</td>\n",
              "      <td>-18.127439</td>\n",
              "      <td>-18.005369</td>\n",
              "      <td>-20.751951</td>\n",
              "      <td>-23.925779</td>\n",
              "      <td>-24.414061</td>\n",
              "      <td>-23.132322</td>\n",
              "      <td>-25.939939</td>\n",
              "      <td>-27.465818</td>\n",
              "      <td>-27.343748</td>\n",
              "      <td>-27.404783</td>\n",
              "      <td>-27.404783</td>\n",
              "      <td>-29.907225</td>\n",
              "      <td>-27.526854</td>\n",
              "      <td>-26.794432</td>\n",
              "      <td>-31.066893</td>\n",
              "      <td>-28.076170</td>\n",
              "      <td>-22.949217</td>\n",
              "      <td>-20.568846</td>\n",
              "      <td>...</td>\n",
              "      <td>-16.906736</td>\n",
              "      <td>-21.728514</td>\n",
              "      <td>-27.893064</td>\n",
              "      <td>-31.860350</td>\n",
              "      <td>-33.691402</td>\n",
              "      <td>-32.165524</td>\n",
              "      <td>-32.226559</td>\n",
              "      <td>-31.005857</td>\n",
              "      <td>-24.230955</td>\n",
              "      <td>-19.531248</td>\n",
              "      <td>-16.235350</td>\n",
              "      <td>-15.624999</td>\n",
              "      <td>-15.930175</td>\n",
              "      <td>-17.639158</td>\n",
              "      <td>-21.972654</td>\n",
              "      <td>-23.193357</td>\n",
              "      <td>-26.062010</td>\n",
              "      <td>-26.000975</td>\n",
              "      <td>-29.724119</td>\n",
              "      <td>-32.714840</td>\n",
              "      <td>-34.118649</td>\n",
              "      <td>-38.635250</td>\n",
              "      <td>-40.039059</td>\n",
              "      <td>-38.879391</td>\n",
              "      <td>-39.794918</td>\n",
              "      <td>-40.588375</td>\n",
              "      <td>-38.940426</td>\n",
              "      <td>-37.109371</td>\n",
              "      <td>-38.024899</td>\n",
              "      <td>-41.076656</td>\n",
              "      <td>-41.748043</td>\n",
              "      <td>-36.499020</td>\n",
              "      <td>-33.752438</td>\n",
              "      <td>-32.836910</td>\n",
              "      <td>-33.996578</td>\n",
              "      <td>-38.574215</td>\n",
              "      <td>-40.283199</td>\n",
              "      <td>-44.860836</td>\n",
              "      <td>-49.438473</td>\n",
              "      <td>-48.645016</td>\n",
              "    </tr>\n",
              "    <tr>\n",
              "      <th>1</th>\n",
              "      <td>30</td>\n",
              "      <td>2083</td>\n",
              "      <td>-34.118649</td>\n",
              "      <td>0</td>\n",
              "      <td>0.0</td>\n",
              "      <td>1</td>\n",
              "      <td>-19.836424</td>\n",
              "      <td>-20.751951</td>\n",
              "      <td>-20.324705</td>\n",
              "      <td>-20.324705</td>\n",
              "      <td>-20.751951</td>\n",
              "      <td>-22.766111</td>\n",
              "      <td>-29.296873</td>\n",
              "      <td>-29.968260</td>\n",
              "      <td>-27.343748</td>\n",
              "      <td>-30.456541</td>\n",
              "      <td>-34.179684</td>\n",
              "      <td>-33.996578</td>\n",
              "      <td>-30.273436</td>\n",
              "      <td>-29.968260</td>\n",
              "      <td>-29.479979</td>\n",
              "      <td>-22.949217</td>\n",
              "      <td>-18.310545</td>\n",
              "      <td>-15.686034</td>\n",
              "      <td>-11.352538</td>\n",
              "      <td>-9.155272</td>\n",
              "      <td>-10.620116</td>\n",
              "      <td>-15.075683</td>\n",
              "      <td>-17.578123</td>\n",
              "      <td>-19.775389</td>\n",
              "      <td>-22.644041</td>\n",
              "      <td>-24.169920</td>\n",
              "      <td>-27.832029</td>\n",
              "      <td>-27.648924</td>\n",
              "      <td>-23.681639</td>\n",
              "      <td>-20.935057</td>\n",
              "      <td>-20.263670</td>\n",
              "      <td>-16.967772</td>\n",
              "      <td>-14.282226</td>\n",
              "      <td>-15.808105</td>\n",
              "      <td>...</td>\n",
              "      <td>-26.000975</td>\n",
              "      <td>-24.536131</td>\n",
              "      <td>-24.597166</td>\n",
              "      <td>-29.541014</td>\n",
              "      <td>-33.935543</td>\n",
              "      <td>-37.048336</td>\n",
              "      <td>-38.513180</td>\n",
              "      <td>-38.208004</td>\n",
              "      <td>-39.489742</td>\n",
              "      <td>-39.184566</td>\n",
              "      <td>-36.071774</td>\n",
              "      <td>-33.264156</td>\n",
              "      <td>-29.479979</td>\n",
              "      <td>-28.808592</td>\n",
              "      <td>-26.306150</td>\n",
              "      <td>-21.606443</td>\n",
              "      <td>-22.399900</td>\n",
              "      <td>-25.573729</td>\n",
              "      <td>-26.611326</td>\n",
              "      <td>-28.747557</td>\n",
              "      <td>-32.958981</td>\n",
              "      <td>-40.100094</td>\n",
              "      <td>-44.006344</td>\n",
              "      <td>-39.062496</td>\n",
              "      <td>-33.752438</td>\n",
              "      <td>-35.034176</td>\n",
              "      <td>-37.597652</td>\n",
              "      <td>-33.874508</td>\n",
              "      <td>-30.151365</td>\n",
              "      <td>-24.841307</td>\n",
              "      <td>-21.057127</td>\n",
              "      <td>-23.132322</td>\n",
              "      <td>-27.832029</td>\n",
              "      <td>-26.733397</td>\n",
              "      <td>-25.451658</td>\n",
              "      <td>-27.893064</td>\n",
              "      <td>-29.174803</td>\n",
              "      <td>-28.869627</td>\n",
              "      <td>-32.104488</td>\n",
              "      <td>-35.644527</td>\n",
              "    </tr>\n",
              "    <tr>\n",
              "      <th>2</th>\n",
              "      <td>31</td>\n",
              "      <td>2137</td>\n",
              "      <td>-39.245602</td>\n",
              "      <td>0</td>\n",
              "      <td>0.0</td>\n",
              "      <td>2</td>\n",
              "      <td>-32.531734</td>\n",
              "      <td>-37.109371</td>\n",
              "      <td>-34.423824</td>\n",
              "      <td>-28.198240</td>\n",
              "      <td>-28.320311</td>\n",
              "      <td>-26.306150</td>\n",
              "      <td>-24.902342</td>\n",
              "      <td>-22.094725</td>\n",
              "      <td>-23.254393</td>\n",
              "      <td>-22.216795</td>\n",
              "      <td>-18.920897</td>\n",
              "      <td>-22.705076</td>\n",
              "      <td>-27.832029</td>\n",
              "      <td>-26.977537</td>\n",
              "      <td>-24.902342</td>\n",
              "      <td>-23.498533</td>\n",
              "      <td>-24.230955</td>\n",
              "      <td>-27.282713</td>\n",
              "      <td>-30.822752</td>\n",
              "      <td>-32.653805</td>\n",
              "      <td>-34.912106</td>\n",
              "      <td>-34.484859</td>\n",
              "      <td>-33.325191</td>\n",
              "      <td>-33.630367</td>\n",
              "      <td>-29.479979</td>\n",
              "      <td>-27.648924</td>\n",
              "      <td>-30.883787</td>\n",
              "      <td>-35.827633</td>\n",
              "      <td>-34.118649</td>\n",
              "      <td>-31.127928</td>\n",
              "      <td>-25.634764</td>\n",
              "      <td>-20.019529</td>\n",
              "      <td>-17.150877</td>\n",
              "      <td>-19.653318</td>\n",
              "      <td>...</td>\n",
              "      <td>-33.813473</td>\n",
              "      <td>-34.118649</td>\n",
              "      <td>-31.921385</td>\n",
              "      <td>-29.418943</td>\n",
              "      <td>-25.939939</td>\n",
              "      <td>-27.893064</td>\n",
              "      <td>-28.991697</td>\n",
              "      <td>-31.738279</td>\n",
              "      <td>-32.836910</td>\n",
              "      <td>-31.433104</td>\n",
              "      <td>-32.592770</td>\n",
              "      <td>-33.874508</td>\n",
              "      <td>-35.766598</td>\n",
              "      <td>-38.391109</td>\n",
              "      <td>-36.682125</td>\n",
              "      <td>-34.606930</td>\n",
              "      <td>-35.278316</td>\n",
              "      <td>-36.743160</td>\n",
              "      <td>-35.888668</td>\n",
              "      <td>-32.470699</td>\n",
              "      <td>-28.503416</td>\n",
              "      <td>-30.944822</td>\n",
              "      <td>-37.048336</td>\n",
              "      <td>-39.978024</td>\n",
              "      <td>-38.085934</td>\n",
              "      <td>-33.935543</td>\n",
              "      <td>-36.987301</td>\n",
              "      <td>-41.748043</td>\n",
              "      <td>-39.550777</td>\n",
              "      <td>-37.414547</td>\n",
              "      <td>-36.865231</td>\n",
              "      <td>-37.841793</td>\n",
              "      <td>-36.560055</td>\n",
              "      <td>-35.217281</td>\n",
              "      <td>-32.958981</td>\n",
              "      <td>-33.142086</td>\n",
              "      <td>-33.935543</td>\n",
              "      <td>-32.775875</td>\n",
              "      <td>-32.287594</td>\n",
              "      <td>-32.470699</td>\n",
              "    </tr>\n",
              "    <tr>\n",
              "      <th>3</th>\n",
              "      <td>32</td>\n",
              "      <td>2246</td>\n",
              "      <td>-39.306637</td>\n",
              "      <td>0</td>\n",
              "      <td>0.0</td>\n",
              "      <td>3</td>\n",
              "      <td>-29.418943</td>\n",
              "      <td>-26.245115</td>\n",
              "      <td>-25.451658</td>\n",
              "      <td>-27.404783</td>\n",
              "      <td>-30.212400</td>\n",
              "      <td>-32.531734</td>\n",
              "      <td>-29.785154</td>\n",
              "      <td>-26.916502</td>\n",
              "      <td>-26.977537</td>\n",
              "      <td>-27.954100</td>\n",
              "      <td>-30.029295</td>\n",
              "      <td>-27.954100</td>\n",
              "      <td>-24.230955</td>\n",
              "      <td>-18.798826</td>\n",
              "      <td>-20.080564</td>\n",
              "      <td>-23.193357</td>\n",
              "      <td>-27.648924</td>\n",
              "      <td>-30.395506</td>\n",
              "      <td>-26.428221</td>\n",
              "      <td>-19.470213</td>\n",
              "      <td>-17.211912</td>\n",
              "      <td>-20.751951</td>\n",
              "      <td>-21.118162</td>\n",
              "      <td>-22.216795</td>\n",
              "      <td>-23.437498</td>\n",
              "      <td>-24.719236</td>\n",
              "      <td>-23.498533</td>\n",
              "      <td>-21.545408</td>\n",
              "      <td>-20.690916</td>\n",
              "      <td>-18.005369</td>\n",
              "      <td>-17.150877</td>\n",
              "      <td>-18.127439</td>\n",
              "      <td>-21.057127</td>\n",
              "      <td>-24.597166</td>\n",
              "      <td>...</td>\n",
              "      <td>-25.878904</td>\n",
              "      <td>-24.902342</td>\n",
              "      <td>-26.428221</td>\n",
              "      <td>-31.311033</td>\n",
              "      <td>-32.897945</td>\n",
              "      <td>-31.311033</td>\n",
              "      <td>-30.151365</td>\n",
              "      <td>-29.235838</td>\n",
              "      <td>-28.747557</td>\n",
              "      <td>-27.343748</td>\n",
              "      <td>-28.259275</td>\n",
              "      <td>-25.695799</td>\n",
              "      <td>-23.681639</td>\n",
              "      <td>-20.568846</td>\n",
              "      <td>-20.080564</td>\n",
              "      <td>-21.057127</td>\n",
              "      <td>-24.902342</td>\n",
              "      <td>-27.404783</td>\n",
              "      <td>-26.916502</td>\n",
              "      <td>-24.719236</td>\n",
              "      <td>-24.047850</td>\n",
              "      <td>-25.451658</td>\n",
              "      <td>-23.925779</td>\n",
              "      <td>-23.864744</td>\n",
              "      <td>-22.827147</td>\n",
              "      <td>-21.118162</td>\n",
              "      <td>-25.268553</td>\n",
              "      <td>-28.198240</td>\n",
              "      <td>-26.245115</td>\n",
              "      <td>-22.705076</td>\n",
              "      <td>-21.789549</td>\n",
              "      <td>-18.371580</td>\n",
              "      <td>-18.920897</td>\n",
              "      <td>-18.432615</td>\n",
              "      <td>-18.005369</td>\n",
              "      <td>-18.432615</td>\n",
              "      <td>-21.789549</td>\n",
              "      <td>-24.841307</td>\n",
              "      <td>-23.376463</td>\n",
              "      <td>-17.883299</td>\n",
              "    </tr>\n",
              "    <tr>\n",
              "      <th>4</th>\n",
              "      <td>33</td>\n",
              "      <td>2384</td>\n",
              "      <td>-45.349117</td>\n",
              "      <td>0</td>\n",
              "      <td>0.0</td>\n",
              "      <td>4</td>\n",
              "      <td>-41.870113</td>\n",
              "      <td>-43.395992</td>\n",
              "      <td>-41.198727</td>\n",
              "      <td>-42.053219</td>\n",
              "      <td>-39.855953</td>\n",
              "      <td>-39.794918</td>\n",
              "      <td>-42.968746</td>\n",
              "      <td>-44.860836</td>\n",
              "      <td>-43.518063</td>\n",
              "      <td>-37.475582</td>\n",
              "      <td>-30.456541</td>\n",
              "      <td>-28.625486</td>\n",
              "      <td>-31.799314</td>\n",
              "      <td>-30.334471</td>\n",
              "      <td>-29.785154</td>\n",
              "      <td>-29.113768</td>\n",
              "      <td>-29.174803</td>\n",
              "      <td>-27.770994</td>\n",
              "      <td>-30.029295</td>\n",
              "      <td>-33.874508</td>\n",
              "      <td>-39.794918</td>\n",
              "      <td>-44.799801</td>\n",
              "      <td>-43.334957</td>\n",
              "      <td>-43.029781</td>\n",
              "      <td>-45.837399</td>\n",
              "      <td>-44.982906</td>\n",
              "      <td>-36.926266</td>\n",
              "      <td>-32.470699</td>\n",
              "      <td>-31.616209</td>\n",
              "      <td>-33.935543</td>\n",
              "      <td>-31.005857</td>\n",
              "      <td>-25.634764</td>\n",
              "      <td>-23.559568</td>\n",
              "      <td>-25.024412</td>\n",
              "      <td>...</td>\n",
              "      <td>-23.254393</td>\n",
              "      <td>-25.024412</td>\n",
              "      <td>-26.855467</td>\n",
              "      <td>-27.160643</td>\n",
              "      <td>-26.733397</td>\n",
              "      <td>-30.761717</td>\n",
              "      <td>-33.813473</td>\n",
              "      <td>-34.362789</td>\n",
              "      <td>-33.935543</td>\n",
              "      <td>-35.644527</td>\n",
              "      <td>-31.921385</td>\n",
              "      <td>-31.799314</td>\n",
              "      <td>-32.592770</td>\n",
              "      <td>-29.724119</td>\n",
              "      <td>-27.160643</td>\n",
              "      <td>-29.724119</td>\n",
              "      <td>-36.437984</td>\n",
              "      <td>-38.513180</td>\n",
              "      <td>-36.132809</td>\n",
              "      <td>-32.165524</td>\n",
              "      <td>-31.372068</td>\n",
              "      <td>-29.785154</td>\n",
              "      <td>-33.630367</td>\n",
              "      <td>-37.109371</td>\n",
              "      <td>-33.630367</td>\n",
              "      <td>-29.113768</td>\n",
              "      <td>-25.756834</td>\n",
              "      <td>-25.695799</td>\n",
              "      <td>-29.418943</td>\n",
              "      <td>-30.700682</td>\n",
              "      <td>-29.052732</td>\n",
              "      <td>-30.822752</td>\n",
              "      <td>-36.254879</td>\n",
              "      <td>-37.841793</td>\n",
              "      <td>-31.433104</td>\n",
              "      <td>-27.587889</td>\n",
              "      <td>-26.000975</td>\n",
              "      <td>-26.550291</td>\n",
              "      <td>-26.855467</td>\n",
              "      <td>-26.245115</td>\n",
              "    </tr>\n",
              "    <tr>\n",
              "      <th>...</th>\n",
              "      <td>...</td>\n",
              "      <td>...</td>\n",
              "      <td>...</td>\n",
              "      <td>...</td>\n",
              "      <td>...</td>\n",
              "      <td>...</td>\n",
              "      <td>...</td>\n",
              "      <td>...</td>\n",
              "      <td>...</td>\n",
              "      <td>...</td>\n",
              "      <td>...</td>\n",
              "      <td>...</td>\n",
              "      <td>...</td>\n",
              "      <td>...</td>\n",
              "      <td>...</td>\n",
              "      <td>...</td>\n",
              "      <td>...</td>\n",
              "      <td>...</td>\n",
              "      <td>...</td>\n",
              "      <td>...</td>\n",
              "      <td>...</td>\n",
              "      <td>...</td>\n",
              "      <td>...</td>\n",
              "      <td>...</td>\n",
              "      <td>...</td>\n",
              "      <td>...</td>\n",
              "      <td>...</td>\n",
              "      <td>...</td>\n",
              "      <td>...</td>\n",
              "      <td>...</td>\n",
              "      <td>...</td>\n",
              "      <td>...</td>\n",
              "      <td>...</td>\n",
              "      <td>...</td>\n",
              "      <td>...</td>\n",
              "      <td>...</td>\n",
              "      <td>...</td>\n",
              "      <td>...</td>\n",
              "      <td>...</td>\n",
              "      <td>...</td>\n",
              "      <td>...</td>\n",
              "      <td>...</td>\n",
              "      <td>...</td>\n",
              "      <td>...</td>\n",
              "      <td>...</td>\n",
              "      <td>...</td>\n",
              "      <td>...</td>\n",
              "      <td>...</td>\n",
              "      <td>...</td>\n",
              "      <td>...</td>\n",
              "      <td>...</td>\n",
              "      <td>...</td>\n",
              "      <td>...</td>\n",
              "      <td>...</td>\n",
              "      <td>...</td>\n",
              "      <td>...</td>\n",
              "      <td>...</td>\n",
              "      <td>...</td>\n",
              "      <td>...</td>\n",
              "      <td>...</td>\n",
              "      <td>...</td>\n",
              "      <td>...</td>\n",
              "      <td>...</td>\n",
              "      <td>...</td>\n",
              "      <td>...</td>\n",
              "      <td>...</td>\n",
              "      <td>...</td>\n",
              "      <td>...</td>\n",
              "      <td>...</td>\n",
              "      <td>...</td>\n",
              "      <td>...</td>\n",
              "      <td>...</td>\n",
              "      <td>...</td>\n",
              "      <td>...</td>\n",
              "      <td>...</td>\n",
              "      <td>...</td>\n",
              "      <td>...</td>\n",
              "      <td>...</td>\n",
              "      <td>...</td>\n",
              "      <td>...</td>\n",
              "      <td>...</td>\n",
              "    </tr>\n",
              "    <tr>\n",
              "      <th>27953</th>\n",
              "      <td>27982</td>\n",
              "      <td>3001799</td>\n",
              "      <td>-23.071287</td>\n",
              "      <td>0</td>\n",
              "      <td>0.0</td>\n",
              "      <td>27953</td>\n",
              "      <td>-13.549804</td>\n",
              "      <td>-19.042967</td>\n",
              "      <td>-18.615721</td>\n",
              "      <td>-16.418455</td>\n",
              "      <td>-12.207030</td>\n",
              "      <td>-9.826659</td>\n",
              "      <td>-11.047362</td>\n",
              "      <td>-10.925292</td>\n",
              "      <td>-10.192870</td>\n",
              "      <td>-12.023925</td>\n",
              "      <td>-14.160155</td>\n",
              "      <td>-12.634276</td>\n",
              "      <td>-10.681151</td>\n",
              "      <td>-8.422851</td>\n",
              "      <td>-10.742187</td>\n",
              "      <td>-10.559081</td>\n",
              "      <td>-8.789062</td>\n",
              "      <td>-11.657714</td>\n",
              "      <td>-15.319823</td>\n",
              "      <td>-17.761229</td>\n",
              "      <td>-16.113279</td>\n",
              "      <td>-10.620116</td>\n",
              "      <td>-8.361815</td>\n",
              "      <td>-6.835937</td>\n",
              "      <td>-4.211425</td>\n",
              "      <td>-4.333496</td>\n",
              "      <td>-5.554199</td>\n",
              "      <td>-3.662109</td>\n",
              "      <td>-5.493164</td>\n",
              "      <td>-7.751464</td>\n",
              "      <td>-10.864257</td>\n",
              "      <td>-13.732909</td>\n",
              "      <td>-11.779784</td>\n",
              "      <td>-7.507324</td>\n",
              "      <td>...</td>\n",
              "      <td>-11.657714</td>\n",
              "      <td>-12.817382</td>\n",
              "      <td>-13.671874</td>\n",
              "      <td>-11.840819</td>\n",
              "      <td>-12.145995</td>\n",
              "      <td>-14.770507</td>\n",
              "      <td>-20.202635</td>\n",
              "      <td>-24.536131</td>\n",
              "      <td>-25.024412</td>\n",
              "      <td>-27.526854</td>\n",
              "      <td>-28.808592</td>\n",
              "      <td>-28.320311</td>\n",
              "      <td>-24.841307</td>\n",
              "      <td>-20.935057</td>\n",
              "      <td>-15.624999</td>\n",
              "      <td>-11.779784</td>\n",
              "      <td>-11.596679</td>\n",
              "      <td>-10.070800</td>\n",
              "      <td>-10.375976</td>\n",
              "      <td>-12.023925</td>\n",
              "      <td>-12.573241</td>\n",
              "      <td>-11.718749</td>\n",
              "      <td>-11.535644</td>\n",
              "      <td>-13.732909</td>\n",
              "      <td>-15.258788</td>\n",
              "      <td>-12.939452</td>\n",
              "      <td>-13.427733</td>\n",
              "      <td>-11.047362</td>\n",
              "      <td>-7.690429</td>\n",
              "      <td>-5.981445</td>\n",
              "      <td>-6.286621</td>\n",
              "      <td>-7.812500</td>\n",
              "      <td>-8.728026</td>\n",
              "      <td>-9.460448</td>\n",
              "      <td>-9.216308</td>\n",
              "      <td>-8.300780</td>\n",
              "      <td>-7.263183</td>\n",
              "      <td>-9.216308</td>\n",
              "      <td>-9.033202</td>\n",
              "      <td>-7.751464</td>\n",
              "    </tr>\n",
              "    <tr>\n",
              "      <th>27954</th>\n",
              "      <td>27983</td>\n",
              "      <td>3001982</td>\n",
              "      <td>-22.888182</td>\n",
              "      <td>0</td>\n",
              "      <td>0.0</td>\n",
              "      <td>27954</td>\n",
              "      <td>-19.287107</td>\n",
              "      <td>-19.470213</td>\n",
              "      <td>-19.592283</td>\n",
              "      <td>-19.592283</td>\n",
              "      <td>-18.615721</td>\n",
              "      <td>-15.930175</td>\n",
              "      <td>-10.803222</td>\n",
              "      <td>-11.718749</td>\n",
              "      <td>-13.427733</td>\n",
              "      <td>-10.986327</td>\n",
              "      <td>-7.873535</td>\n",
              "      <td>-9.582519</td>\n",
              "      <td>-12.023925</td>\n",
              "      <td>-10.986327</td>\n",
              "      <td>-11.169433</td>\n",
              "      <td>-6.835937</td>\n",
              "      <td>-4.882812</td>\n",
              "      <td>-6.164550</td>\n",
              "      <td>-5.249023</td>\n",
              "      <td>-4.882812</td>\n",
              "      <td>-6.774902</td>\n",
              "      <td>-8.850097</td>\n",
              "      <td>-12.145995</td>\n",
              "      <td>-14.038085</td>\n",
              "      <td>-12.268065</td>\n",
              "      <td>-7.934570</td>\n",
              "      <td>-7.080078</td>\n",
              "      <td>-9.460448</td>\n",
              "      <td>-9.887694</td>\n",
              "      <td>-8.789062</td>\n",
              "      <td>-6.835937</td>\n",
              "      <td>-5.187988</td>\n",
              "      <td>-6.408691</td>\n",
              "      <td>-10.314940</td>\n",
              "      <td>...</td>\n",
              "      <td>-11.535644</td>\n",
              "      <td>-10.803222</td>\n",
              "      <td>-10.925292</td>\n",
              "      <td>-8.972167</td>\n",
              "      <td>-6.286621</td>\n",
              "      <td>-7.568359</td>\n",
              "      <td>-9.887694</td>\n",
              "      <td>-8.483886</td>\n",
              "      <td>-7.568359</td>\n",
              "      <td>-6.408691</td>\n",
              "      <td>-6.713867</td>\n",
              "      <td>-10.009765</td>\n",
              "      <td>-12.512206</td>\n",
              "      <td>-13.366698</td>\n",
              "      <td>-13.305663</td>\n",
              "      <td>-11.535644</td>\n",
              "      <td>-10.437011</td>\n",
              "      <td>-11.779784</td>\n",
              "      <td>-13.854980</td>\n",
              "      <td>-11.901855</td>\n",
              "      <td>-10.620116</td>\n",
              "      <td>-9.948730</td>\n",
              "      <td>-7.873535</td>\n",
              "      <td>-6.530761</td>\n",
              "      <td>-5.249023</td>\n",
              "      <td>-3.784179</td>\n",
              "      <td>-3.356933</td>\n",
              "      <td>-6.164550</td>\n",
              "      <td>-8.422851</td>\n",
              "      <td>-9.216308</td>\n",
              "      <td>-10.986327</td>\n",
              "      <td>-12.329101</td>\n",
              "      <td>-14.221190</td>\n",
              "      <td>-16.662596</td>\n",
              "      <td>-14.709472</td>\n",
              "      <td>-10.437011</td>\n",
              "      <td>-9.582519</td>\n",
              "      <td>-13.183593</td>\n",
              "      <td>-13.977050</td>\n",
              "      <td>-12.145995</td>\n",
              "    </tr>\n",
              "    <tr>\n",
              "      <th>27955</th>\n",
              "      <td>27984</td>\n",
              "      <td>3002153</td>\n",
              "      <td>-28.564451</td>\n",
              "      <td>0</td>\n",
              "      <td>0.0</td>\n",
              "      <td>27955</td>\n",
              "      <td>-13.671874</td>\n",
              "      <td>-10.314940</td>\n",
              "      <td>-9.460448</td>\n",
              "      <td>-10.742187</td>\n",
              "      <td>-11.352538</td>\n",
              "      <td>-12.878417</td>\n",
              "      <td>-16.418455</td>\n",
              "      <td>-20.935057</td>\n",
              "      <td>-20.263670</td>\n",
              "      <td>-16.540525</td>\n",
              "      <td>-13.305663</td>\n",
              "      <td>-13.061522</td>\n",
              "      <td>-15.563964</td>\n",
              "      <td>-14.343261</td>\n",
              "      <td>-16.235350</td>\n",
              "      <td>-13.793944</td>\n",
              "      <td>-13.671874</td>\n",
              "      <td>-15.930175</td>\n",
              "      <td>-18.798826</td>\n",
              "      <td>-22.521971</td>\n",
              "      <td>-19.165037</td>\n",
              "      <td>-16.662596</td>\n",
              "      <td>-16.296385</td>\n",
              "      <td>-15.808105</td>\n",
              "      <td>-16.113279</td>\n",
              "      <td>-14.465331</td>\n",
              "      <td>-15.747069</td>\n",
              "      <td>-15.319823</td>\n",
              "      <td>-14.282226</td>\n",
              "      <td>-11.779784</td>\n",
              "      <td>-10.070800</td>\n",
              "      <td>-11.352538</td>\n",
              "      <td>-13.854980</td>\n",
              "      <td>-14.831542</td>\n",
              "      <td>...</td>\n",
              "      <td>-12.939452</td>\n",
              "      <td>-12.573241</td>\n",
              "      <td>-15.258788</td>\n",
              "      <td>-18.005369</td>\n",
              "      <td>-17.395018</td>\n",
              "      <td>-16.296385</td>\n",
              "      <td>-17.089842</td>\n",
              "      <td>-16.845701</td>\n",
              "      <td>-14.404296</td>\n",
              "      <td>-9.277343</td>\n",
              "      <td>-7.751464</td>\n",
              "      <td>-8.117675</td>\n",
              "      <td>-10.437011</td>\n",
              "      <td>-13.854980</td>\n",
              "      <td>-16.418455</td>\n",
              "      <td>-14.892577</td>\n",
              "      <td>-14.892577</td>\n",
              "      <td>-12.878417</td>\n",
              "      <td>-12.756347</td>\n",
              "      <td>-11.596679</td>\n",
              "      <td>-7.202148</td>\n",
              "      <td>-3.967285</td>\n",
              "      <td>-4.272460</td>\n",
              "      <td>-8.239745</td>\n",
              "      <td>-11.474608</td>\n",
              "      <td>-13.916015</td>\n",
              "      <td>-16.296385</td>\n",
              "      <td>-15.624999</td>\n",
              "      <td>-13.732909</td>\n",
              "      <td>-12.512206</td>\n",
              "      <td>-11.474608</td>\n",
              "      <td>-11.230468</td>\n",
              "      <td>-11.352538</td>\n",
              "      <td>-10.559081</td>\n",
              "      <td>-15.808105</td>\n",
              "      <td>-20.019529</td>\n",
              "      <td>-20.263670</td>\n",
              "      <td>-18.920897</td>\n",
              "      <td>-17.700193</td>\n",
              "      <td>-13.122558</td>\n",
              "    </tr>\n",
              "    <tr>\n",
              "      <th>27956</th>\n",
              "      <td>27985</td>\n",
              "      <td>3002265</td>\n",
              "      <td>-21.850584</td>\n",
              "      <td>0</td>\n",
              "      <td>0.0</td>\n",
              "      <td>27956</td>\n",
              "      <td>-16.845701</td>\n",
              "      <td>-18.005369</td>\n",
              "      <td>-20.568846</td>\n",
              "      <td>-21.240232</td>\n",
              "      <td>-20.080564</td>\n",
              "      <td>-19.104002</td>\n",
              "      <td>-15.136718</td>\n",
              "      <td>-13.366698</td>\n",
              "      <td>-11.840819</td>\n",
              "      <td>-14.648437</td>\n",
              "      <td>-16.784666</td>\n",
              "      <td>-17.211912</td>\n",
              "      <td>-16.235350</td>\n",
              "      <td>-12.512206</td>\n",
              "      <td>-9.643554</td>\n",
              "      <td>-9.643554</td>\n",
              "      <td>-9.277343</td>\n",
              "      <td>-8.239745</td>\n",
              "      <td>-8.850097</td>\n",
              "      <td>-11.474608</td>\n",
              "      <td>-11.108397</td>\n",
              "      <td>-9.765624</td>\n",
              "      <td>-9.887694</td>\n",
              "      <td>-12.878417</td>\n",
              "      <td>-14.953612</td>\n",
              "      <td>-18.859861</td>\n",
              "      <td>-17.822264</td>\n",
              "      <td>-13.977050</td>\n",
              "      <td>-9.948730</td>\n",
              "      <td>-12.939452</td>\n",
              "      <td>-13.305663</td>\n",
              "      <td>-11.657714</td>\n",
              "      <td>-13.000487</td>\n",
              "      <td>-15.869140</td>\n",
              "      <td>...</td>\n",
              "      <td>-20.080564</td>\n",
              "      <td>-15.136718</td>\n",
              "      <td>-14.465331</td>\n",
              "      <td>-16.357420</td>\n",
              "      <td>-15.624999</td>\n",
              "      <td>-12.878417</td>\n",
              "      <td>-10.375976</td>\n",
              "      <td>-7.995605</td>\n",
              "      <td>-6.530761</td>\n",
              "      <td>-7.934570</td>\n",
              "      <td>-7.019042</td>\n",
              "      <td>-3.295898</td>\n",
              "      <td>-2.136230</td>\n",
              "      <td>-5.004882</td>\n",
              "      <td>-6.591796</td>\n",
              "      <td>-7.568359</td>\n",
              "      <td>-8.850097</td>\n",
              "      <td>-9.765624</td>\n",
              "      <td>-12.573241</td>\n",
              "      <td>-14.526366</td>\n",
              "      <td>-11.901855</td>\n",
              "      <td>-10.925292</td>\n",
              "      <td>-12.207030</td>\n",
              "      <td>-16.296385</td>\n",
              "      <td>-15.502929</td>\n",
              "      <td>-11.413573</td>\n",
              "      <td>-7.385253</td>\n",
              "      <td>-3.784179</td>\n",
              "      <td>-2.929687</td>\n",
              "      <td>-6.347656</td>\n",
              "      <td>-7.202148</td>\n",
              "      <td>-8.789062</td>\n",
              "      <td>-8.666991</td>\n",
              "      <td>-7.934570</td>\n",
              "      <td>-8.117675</td>\n",
              "      <td>-8.117675</td>\n",
              "      <td>-12.145995</td>\n",
              "      <td>-13.671874</td>\n",
              "      <td>-15.197753</td>\n",
              "      <td>-19.470213</td>\n",
              "    </tr>\n",
              "    <tr>\n",
              "      <th>27957</th>\n",
              "      <td>27986</td>\n",
              "      <td>3002324</td>\n",
              "      <td>-17.639158</td>\n",
              "      <td>0</td>\n",
              "      <td>0.0</td>\n",
              "      <td>27957</td>\n",
              "      <td>-16.723631</td>\n",
              "      <td>-19.470213</td>\n",
              "      <td>-20.874022</td>\n",
              "      <td>-19.287107</td>\n",
              "      <td>-16.174314</td>\n",
              "      <td>-13.916015</td>\n",
              "      <td>-11.169433</td>\n",
              "      <td>-11.352538</td>\n",
              "      <td>-13.854980</td>\n",
              "      <td>-15.869140</td>\n",
              "      <td>-14.221190</td>\n",
              "      <td>-14.465331</td>\n",
              "      <td>-16.418455</td>\n",
              "      <td>-13.916015</td>\n",
              "      <td>-12.451171</td>\n",
              "      <td>-15.197753</td>\n",
              "      <td>-16.418455</td>\n",
              "      <td>-18.310545</td>\n",
              "      <td>-20.263670</td>\n",
              "      <td>-20.385740</td>\n",
              "      <td>-19.287107</td>\n",
              "      <td>-14.526366</td>\n",
              "      <td>-11.840819</td>\n",
              "      <td>-14.648437</td>\n",
              "      <td>-16.601561</td>\n",
              "      <td>-14.953612</td>\n",
              "      <td>-11.779784</td>\n",
              "      <td>-7.995605</td>\n",
              "      <td>-10.253905</td>\n",
              "      <td>-14.709472</td>\n",
              "      <td>-14.221190</td>\n",
              "      <td>-13.977050</td>\n",
              "      <td>-16.723631</td>\n",
              "      <td>-19.409178</td>\n",
              "      <td>...</td>\n",
              "      <td>-5.493164</td>\n",
              "      <td>-5.371093</td>\n",
              "      <td>-7.995605</td>\n",
              "      <td>-9.094237</td>\n",
              "      <td>-10.314940</td>\n",
              "      <td>-10.986327</td>\n",
              "      <td>-6.286621</td>\n",
              "      <td>-2.502441</td>\n",
              "      <td>-5.493164</td>\n",
              "      <td>-6.774902</td>\n",
              "      <td>-7.568359</td>\n",
              "      <td>-7.141113</td>\n",
              "      <td>-8.605956</td>\n",
              "      <td>-11.291503</td>\n",
              "      <td>-12.084960</td>\n",
              "      <td>-11.718749</td>\n",
              "      <td>-11.108397</td>\n",
              "      <td>-10.009765</td>\n",
              "      <td>-12.084960</td>\n",
              "      <td>-13.671874</td>\n",
              "      <td>-14.221190</td>\n",
              "      <td>-17.761229</td>\n",
              "      <td>-18.432615</td>\n",
              "      <td>-15.624999</td>\n",
              "      <td>-12.695312</td>\n",
              "      <td>-11.962890</td>\n",
              "      <td>-14.892577</td>\n",
              "      <td>-14.221190</td>\n",
              "      <td>-13.061522</td>\n",
              "      <td>-15.686034</td>\n",
              "      <td>-16.662596</td>\n",
              "      <td>-15.930175</td>\n",
              "      <td>-13.610839</td>\n",
              "      <td>-10.437011</td>\n",
              "      <td>-12.390136</td>\n",
              "      <td>-16.967772</td>\n",
              "      <td>-14.160155</td>\n",
              "      <td>-8.422851</td>\n",
              "      <td>-7.080078</td>\n",
              "      <td>-6.591796</td>\n",
              "    </tr>\n",
              "  </tbody>\n",
              "</table>\n",
              "<p>27958 rows × 4006 columns</p>\n",
              "</div>"
            ],
            "text/plain": [
              "       index  Time Index    Current  ...       3997       3998       3999\n",
              "0         29        2035 -44.067379  ... -44.860836 -49.438473 -48.645016\n",
              "1         30        2083 -34.118649  ... -28.869627 -32.104488 -35.644527\n",
              "2         31        2137 -39.245602  ... -32.775875 -32.287594 -32.470699\n",
              "3         32        2246 -39.306637  ... -24.841307 -23.376463 -17.883299\n",
              "4         33        2384 -45.349117  ... -26.550291 -26.855467 -26.245115\n",
              "...      ...         ...        ...  ...        ...        ...        ...\n",
              "27953  27982     3001799 -23.071287  ...  -9.216308  -9.033202  -7.751464\n",
              "27954  27983     3001982 -22.888182  ... -13.183593 -13.977050 -12.145995\n",
              "27955  27984     3002153 -28.564451  ... -18.920897 -17.700193 -13.122558\n",
              "27956  27985     3002265 -21.850584  ... -13.671874 -15.197753 -19.470213\n",
              "27957  27986     3002324 -17.639158  ...  -8.422851  -7.080078  -6.591796\n",
              "\n",
              "[27958 rows x 4006 columns]"
            ]
          },
          "metadata": {},
          "execution_count": 7
        }
      ]
    },
    {
      "cell_type": "code",
      "metadata": {
        "colab": {
          "base_uri": "https://localhost:8080/"
        },
        "id": "4f78a5ff",
        "outputId": "62d5b7fd-ed48-4fa3-b447-26c094b489df"
      },
      "source": [
        "df['Label'].value_counts()"
      ],
      "id": "4f78a5ff",
      "execution_count": 8,
      "outputs": [
        {
          "output_type": "execute_result",
          "data": {
            "text/plain": [
              "0    27814\n",
              "1      144\n",
              "Name: Label, dtype: int64"
            ]
          },
          "metadata": {},
          "execution_count": 8
        }
      ]
    },
    {
      "cell_type": "code",
      "metadata": {
        "id": "0ae757b7"
      },
      "source": [
        "X = df.iloc[:,6:].to_numpy()\n",
        "y = df['Label'].to_numpy()"
      ],
      "id": "0ae757b7",
      "execution_count": 9,
      "outputs": []
    },
    {
      "cell_type": "code",
      "metadata": {
        "colab": {
          "base_uri": "https://localhost:8080/"
        },
        "id": "4cdbf148",
        "outputId": "8a1125a6-ef06-48a1-b837-d3ecd6a68888"
      },
      "source": [
        "X.shape"
      ],
      "id": "4cdbf148",
      "execution_count": 10,
      "outputs": [
        {
          "output_type": "execute_result",
          "data": {
            "text/plain": [
              "(27958, 4000)"
            ]
          },
          "metadata": {},
          "execution_count": 10
        }
      ]
    },
    {
      "cell_type": "code",
      "metadata": {
        "id": "26ef5d9f"
      },
      "source": [
        "X_train, X_test, y_train, y_test = train_test_split(X, y, test_size=0.2, random_state=42, stratify=df['Label'])"
      ],
      "id": "26ef5d9f",
      "execution_count": 11,
      "outputs": []
    },
    {
      "cell_type": "code",
      "metadata": {
        "id": "8d01c58a"
      },
      "source": [
        "scaler = MinMaxScaler()\n",
        "X_train_scaled = scaler.fit_transform(X_train)\n",
        "X_test_scaled = scaler.transform(X_test)"
      ],
      "id": "8d01c58a",
      "execution_count": 12,
      "outputs": []
    },
    {
      "cell_type": "code",
      "metadata": {
        "colab": {
          "base_uri": "https://localhost:8080/"
        },
        "id": "aef71d0a",
        "outputId": "fea458f4-e8c6-45ab-c47c-9fefe051bf44"
      },
      "source": [
        "print(X_train.shape)\n",
        "print(y_train.shape)"
      ],
      "id": "aef71d0a",
      "execution_count": 13,
      "outputs": [
        {
          "output_type": "stream",
          "name": "stdout",
          "text": [
            "(22366, 4000)\n",
            "(22366,)\n"
          ]
        }
      ]
    },
    {
      "cell_type": "markdown",
      "metadata": {
        "id": "Bp9ldIda7gJd"
      },
      "source": [
        "Original Data Set"
      ],
      "id": "Bp9ldIda7gJd"
    },
    {
      "cell_type": "code",
      "metadata": {
        "id": "8xkS-R9p7pjh"
      },
      "source": [
        "X_train_original = X_train_scaled\n",
        "y_train_original = y_train"
      ],
      "id": "8xkS-R9p7pjh",
      "execution_count": 14,
      "outputs": []
    },
    {
      "cell_type": "markdown",
      "metadata": {
        "id": "0baf5191"
      },
      "source": [
        "#### Random Under-Sampling"
      ],
      "id": "0baf5191"
    },
    {
      "cell_type": "code",
      "metadata": {
        "id": "a4d3b60a"
      },
      "source": [
        "rus = RandomUnderSampler(random_state=42, sampling_strategy=.30)\n",
        "X_rus, y_rus = rus.fit_resample(X_train_scaled, y_train)"
      ],
      "id": "a4d3b60a",
      "execution_count": 15,
      "outputs": []
    },
    {
      "cell_type": "code",
      "metadata": {
        "pycharm": {
          "name": "#%%\n"
        },
        "colab": {
          "base_uri": "https://localhost:8080/"
        },
        "id": "fddea791",
        "outputId": "25df30ab-b7ff-4a3c-a113-566ed7981d56"
      },
      "source": [
        "print(y_rus.shape)\n",
        "print(X_rus.shape)\n",
        "print(np.unique(y_rus, return_counts=True))"
      ],
      "id": "fddea791",
      "execution_count": 16,
      "outputs": [
        {
          "output_type": "stream",
          "name": "stdout",
          "text": [
            "(498,)\n",
            "(498, 4000)\n",
            "(array([0, 1]), array([383, 115]))\n"
          ]
        }
      ]
    },
    {
      "cell_type": "markdown",
      "metadata": {
        "id": "dfc79786"
      },
      "source": [
        "#### Random Over-Sampling"
      ],
      "id": "dfc79786"
    },
    {
      "cell_type": "code",
      "metadata": {
        "id": "2eef97dc"
      },
      "source": [
        "ros = RandomOverSampler(sampling_strategy=0.3)\n",
        "\n",
        "X_ros, y_ros = ros.fit_resample(X_train_scaled, y_train)"
      ],
      "id": "2eef97dc",
      "execution_count": 17,
      "outputs": []
    },
    {
      "cell_type": "code",
      "metadata": {
        "colab": {
          "base_uri": "https://localhost:8080/"
        },
        "id": "jlCdrGOM7z_Z",
        "outputId": "4b565af6-a9e4-428f-d91c-acda70b74862"
      },
      "source": [
        "print(y_ros.shape)\n",
        "print(X_ros.shape)\n",
        "print(np.unique(y_ros, return_counts=True))"
      ],
      "id": "jlCdrGOM7z_Z",
      "execution_count": 18,
      "outputs": [
        {
          "output_type": "stream",
          "name": "stdout",
          "text": [
            "(28926,)\n",
            "(28926, 4000)\n",
            "(array([0, 1]), array([22251,  6675]))\n"
          ]
        }
      ]
    },
    {
      "cell_type": "markdown",
      "metadata": {
        "id": "8ab0280f"
      },
      "source": [
        "#### Combined Sampling"
      ],
      "id": "8ab0280f"
    },
    {
      "cell_type": "code",
      "metadata": {
        "pycharm": {
          "name": "#%%\n"
        },
        "colab": {
          "base_uri": "https://localhost:8080/"
        },
        "id": "20947d2d",
        "outputId": "67ec9fa6-92bf-4045-8ed8-c0f0b9c51f7f"
      },
      "source": [
        "over = RandomOverSampler(sampling_strategy=0.02)\n",
        "under = RandomUnderSampler(sampling_strategy=0.3)\n",
        "# first performing oversampling to minority class\n",
        "X_over, y_over = over.fit_resample(X_train_scaled, y_train)\n",
        "print(f\"Oversampled: {Counter(y_over)}\")\n",
        "#Oversampled: Counter({0: 9844, 1: 4922})\n",
        "# now to comine under sampling \n",
        "X_combined_sampling, y_combined_sampling = under.fit_resample(X_over, y_over)\n",
        "print(f\"Combined sampled: {Counter(y_combined_sampling)}\")"
      ],
      "id": "20947d2d",
      "execution_count": 19,
      "outputs": [
        {
          "output_type": "stream",
          "name": "stdout",
          "text": [
            "Oversampled: Counter({0: 22251, 1: 445})\n",
            "Combined sampled: Counter({0: 1483, 1: 445})\n"
          ]
        }
      ]
    },
    {
      "cell_type": "code",
      "metadata": {
        "colab": {
          "base_uri": "https://localhost:8080/"
        },
        "id": "f6ba10d0",
        "outputId": "cefe7658-fe0f-4ffe-e44f-58eb249bc374"
      },
      "source": [
        "print(X_combined_sampling.shape)\n",
        "print(y_combined_sampling.shape)"
      ],
      "id": "f6ba10d0",
      "execution_count": 20,
      "outputs": [
        {
          "output_type": "stream",
          "name": "stdout",
          "text": [
            "(1928, 4000)\n",
            "(1928,)\n"
          ]
        }
      ]
    },
    {
      "cell_type": "markdown",
      "metadata": {
        "id": "be9c5b99"
      },
      "source": [
        "#### Model Testing"
      ],
      "id": "be9c5b99"
    },
    {
      "cell_type": "code",
      "metadata": {
        "id": "758d1d1b"
      },
      "source": [
        "import xgboost as xgb\n",
        "from hyperopt import hp, fmin, tpe, Trials\n",
        "from sklearn.model_selection import cross_val_score, StratifiedKFold\n",
        "from hyperopt import STATUS_OK\n",
        "import sklearn.metrics as metrics"
      ],
      "id": "758d1d1b",
      "execution_count": 21,
      "outputs": []
    },
    {
      "cell_type": "code",
      "metadata": {
        "id": "0d8b1bf8"
      },
      "source": [
        "def model_testing(inputs, targets):\n",
        "\n",
        "  xgb_space = {'learning_rate': hp.loguniform('learning_rate', np.log(0.01), np.log(0.2)),\n",
        "              'scale_pos_weight':hp.choice('scale_pos_weight', [1, 10, 25, 50, 75, 99, 100, 1000]),\n",
        "              'max_delta_step': hp.choice('max_delta_step', np.arange(0, 10, dtype=int)),\n",
        "                  'max_depth': hp.choice('max_depth', np.arange(1, 10, dtype=int)),\n",
        "                  'reg_alpha': hp.uniform('reg_alpha', 0.0, 2.0),\n",
        "                  'reg_lambda': hp.uniform('reg_lambda', 1.0, 3.0),\n",
        "                  'min_child_weight': hp.quniform('min_child_weight',1, 20, 1),\n",
        "                  \"colsample_bytree\": hp.choice('colsample_bytree', [0, 1]),\n",
        "                  \"gamma\": hp.uniform('gamma', 0.0, 10),\n",
        "                  }\n",
        "\n",
        "  def xgb_crossval(params, n_folds=2):\n",
        "    dtrain = xgb.DMatrix(inputs, targets)\n",
        "\n",
        "    cv_results = xgb.cv(params, dtrain, nfold=n_folds, stratified=True,\n",
        "                        early_stopping_rounds=100, metrics='auc', seed=42)\n",
        "\n",
        "    # Extract the best score\n",
        "\n",
        "    best_score = cv_results['test-auc-mean'].iloc[-1]\n",
        "\n",
        "    # Dictionary with information for evaluation\n",
        "    return {'loss': -best_score, 'params': params, 'status': STATUS_OK}\n",
        "\n",
        "  def best_model(model, space, evals=10): \n",
        "    trials = Trials()\n",
        "    print('Running Best...')\n",
        "    best = fmin(\n",
        "        fn=model,\n",
        "        space=space,\n",
        "        algo=tpe.suggest,\n",
        "        trials=trials, \n",
        "        max_evals=evals # <- might consider doing evals at around 10? \n",
        "    )\n",
        "    print('Done.')\n",
        "    print(f\"Optimal value of x: {best}\")\n",
        "    return best, trials\n",
        "\n",
        "  return best_model(xgb_crossval, xgb_space)\n"
      ],
      "id": "0d8b1bf8",
      "execution_count": 22,
      "outputs": []
    },
    {
      "cell_type": "code",
      "metadata": {
        "id": "TtcyQEVQhqt3"
      },
      "source": [
        "def scoring(input, target, x_test=X_test_scaled, y_test=y_test):\n",
        "  tuning = model_testing(input, target)\n",
        "  model = xgb.XGBClassifier(**tuning[0])\n",
        "\n",
        "  model.fit(input, target)\n",
        "\n",
        "  preds = model.predict(x_test)\n",
        "\n",
        "  print(metrics.roc_auc_score(y_test, preds))\n",
        "\n",
        "  return model"
      ],
      "id": "TtcyQEVQhqt3",
      "execution_count": 28,
      "outputs": []
    },
    {
      "cell_type": "code",
      "metadata": {
        "colab": {
          "base_uri": "https://localhost:8080/"
        },
        "id": "W_jY5ZswmEf-",
        "outputId": "933f7cd0-60cf-4283-edf9-0991c9004675"
      },
      "source": [
        "original = scoring(X_train_original, y_train_original)"
      ],
      "id": "W_jY5ZswmEf-",
      "execution_count": 25,
      "outputs": [
        {
          "output_type": "stream",
          "name": "stdout",
          "text": [
            "Running Best...\n",
            "100%|██████████| 10/10 [04:54<00:00, 29.49s/it, best loss: -0.9934974999999999]\n",
            "Done.\n",
            "Optimal value of x: {'colsample_bytree': 1, 'gamma': 5.530468369146875, 'learning_rate': 0.08765376936282615, 'max_delta_step': 6, 'max_depth': 8, 'min_child_weight': 18.0, 'reg_alpha': 0.8863221076702308, 'reg_lambda': 2.708429357692425, 'scale_pos_weight': 7}\n",
            "0.9475568255778636\n"
          ]
        }
      ]
    },
    {
      "cell_type": "code",
      "metadata": {
        "colab": {
          "base_uri": "https://localhost:8080/"
        },
        "id": "CiaihyVrowOA",
        "outputId": "d1369c1c-01ec-4dbb-9162-4281a5b49613"
      },
      "source": [
        "original"
      ],
      "id": "CiaihyVrowOA",
      "execution_count": null,
      "outputs": [
        {
          "output_type": "execute_result",
          "data": {
            "text/plain": [
              "XGBClassifier(gamma=6.206185936188758, learning_rate=0.16503817715940527,\n",
              "              max_delta_step=1, max_depth=6, min_child_weight=19.0,\n",
              "              reg_alpha=0.31370753701108867, reg_lambda=2.543175051692524,\n",
              "              scale_pos_weight=6)"
            ]
          },
          "metadata": {},
          "execution_count": 101
        }
      ]
    },
    {
      "cell_type": "code",
      "metadata": {
        "colab": {
          "base_uri": "https://localhost:8080/"
        },
        "id": "gcUtoLT8HMCs",
        "outputId": "38d3d22a-b9be-4504-9868-27c7a64a4e0b"
      },
      "source": [
        "undersampled = scoring(X_rus, y_rus)"
      ],
      "id": "gcUtoLT8HMCs",
      "execution_count": 26,
      "outputs": [
        {
          "output_type": "stream",
          "name": "stdout",
          "text": [
            "Running Best...\n",
            "100%|██████████| 10/10 [00:08<00:00,  1.13it/s, best loss: -0.9938745]\n",
            "Done.\n",
            "Optimal value of x: {'colsample_bytree': 1, 'gamma': 8.908922947062067, 'learning_rate': 0.17151669122132357, 'max_delta_step': 4, 'max_depth': 4, 'min_child_weight': 5.0, 'reg_alpha': 0.43572429585983175, 'reg_lambda': 2.586890619612898, 'scale_pos_weight': 0}\n",
            "0.5\n"
          ]
        }
      ]
    },
    {
      "cell_type": "code",
      "metadata": {
        "colab": {
          "base_uri": "https://localhost:8080/"
        },
        "id": "C4JLWWY-HF03",
        "outputId": "49729185-5273-4986-feeb-f44586deba72"
      },
      "source": [
        "oversampled = scoring(X_ros, y_ros)"
      ],
      "id": "C4JLWWY-HF03",
      "execution_count": null,
      "outputs": [
        {
          "output_type": "stream",
          "name": "stdout",
          "text": [
            "Running Best...\n",
            "100%|██████████| 10/10 [06:58<00:00, 41.88s/it, best loss: -0.999619]\n",
            "Done.\n",
            "Optimal value of x: {'colsample_bytree': 1, 'gamma': 0.2994419719384922, 'learning_rate': 0.1751692532986879, 'max_delta_step': 8, 'max_depth': 8, 'min_child_weight': 7.0, 'reg_alpha': 0.5207610110763026, 'reg_lambda': 1.8004800037851294, 'scale_pos_weight': 0}\n"
          ]
        }
      ]
    },
    {
      "cell_type": "code",
      "metadata": {
        "colab": {
          "base_uri": "https://localhost:8080/"
        },
        "id": "pyk1draFHSRp",
        "outputId": "f75a34c6-9d0a-4876-dedd-c3243b521543"
      },
      "source": [
        "combined = scoring(X_combined_sampling, y_combined_sampling)"
      ],
      "id": "pyk1draFHSRp",
      "execution_count": 27,
      "outputs": [
        {
          "output_type": "stream",
          "name": "stdout",
          "text": [
            "Running Best...\n",
            "100%|██████████| 10/10 [00:21<00:00,  2.14s/it, best loss: -0.9939315]\n",
            "Done.\n",
            "Optimal value of x: {'colsample_bytree': 1, 'gamma': 9.686880112769026, 'learning_rate': 0.10899982864675202, 'max_delta_step': 9, 'max_depth': 1, 'min_child_weight': 2.0, 'reg_alpha': 0.22756729721308866, 'reg_lambda': 2.4358236561220723, 'scale_pos_weight': 6}\n",
            "0.9771860878836153\n"
          ]
        }
      ]
    },
    {
      "cell_type": "markdown",
      "metadata": {
        "id": "ZcWjG5aVxhu3"
      },
      "source": [
        "Trying a new dataset"
      ],
      "id": "ZcWjG5aVxhu3"
    },
    {
      "cell_type": "code",
      "metadata": {
        "colab": {
          "base_uri": "https://localhost:8080/"
        },
        "id": "_LmnzXNLpQxO",
        "outputId": "8822c049-17a3-400a-c827-a816a96a93a6"
      },
      "source": [
        "# predicting on new dataset\n",
        "\n",
        "new = xgb.XGBClassifier(gamma=6.206185936188758, learning_rate=0.16503817715940527,\n",
        "              max_delta_step=1, max_depth=6, min_child_weight=19.0,\n",
        "              reg_alpha=0.31370753701108867, reg_lambda=2.543175051692524,\n",
        "              scale_pos_weight=6)\n",
        "\n",
        "new_abf = r'/content/drive/MyDrive/yorglab/Unbalanced_IPSC_Detection/Colin/ceb_2014_02_26_0000.abf'\n",
        "test2 = TrainingData(labs_xlsx, 'Crblm 0000 Unfiltered', new_abf)"
      ],
      "id": "_LmnzXNLpQxO",
      "execution_count": 38,
      "outputs": [
        {
          "output_type": "stream",
          "name": "stderr",
          "text": [
            "100%|██████████| 64588/64588 [00:00<00:00, 1293105.42it/s]\n"
          ]
        }
      ]
    },
    {
      "cell_type": "code",
      "metadata": {
        "id": "n-5XpTIipsYL"
      },
      "source": [
        "df2 = test2.traces"
      ],
      "id": "n-5XpTIipsYL",
      "execution_count": 39,
      "outputs": []
    },
    {
      "cell_type": "code",
      "metadata": {
        "id": "9Og3z86Zp0FE"
      },
      "source": [
        "X2 = df2.iloc[:,6:].to_numpy()\n",
        "y2 = df2['Label'].to_numpy()"
      ],
      "id": "9Og3z86Zp0FE",
      "execution_count": 40,
      "outputs": []
    },
    {
      "cell_type": "code",
      "metadata": {
        "id": "KdF-VAHTp6dj"
      },
      "source": [
        "X2_train, X2_test, y2_train, y2_test = train_test_split(X2, y2, test_size=0.3, random_state=42, stratify=df2['Label'])"
      ],
      "id": "KdF-VAHTp6dj",
      "execution_count": 41,
      "outputs": []
    },
    {
      "cell_type": "code",
      "metadata": {
        "id": "Funr3emmqSgP"
      },
      "source": [
        "X2_train_scaled = scaler.fit_transform(X2_train)\n",
        "X2_test_scaled = scaler.transform(X2_test)"
      ],
      "id": "Funr3emmqSgP",
      "execution_count": 42,
      "outputs": []
    },
    {
      "cell_type": "code",
      "metadata": {
        "colab": {
          "base_uri": "https://localhost:8080/"
        },
        "id": "OZ8fbJTFqqMK",
        "outputId": "255ec45c-d142-40f8-efc6-e175cbef62d1"
      },
      "source": [
        "new.fit(X2_train_scaled, y2_train)"
      ],
      "id": "OZ8fbJTFqqMK",
      "execution_count": 43,
      "outputs": [
        {
          "output_type": "execute_result",
          "data": {
            "text/plain": [
              "XGBClassifier(gamma=6.206185936188758, learning_rate=0.16503817715940527,\n",
              "              max_delta_step=1, max_depth=6, min_child_weight=19.0,\n",
              "              reg_alpha=0.31370753701108867, reg_lambda=2.543175051692524,\n",
              "              scale_pos_weight=6)"
            ]
          },
          "metadata": {},
          "execution_count": 43
        }
      ]
    },
    {
      "cell_type": "code",
      "metadata": {
        "id": "_8B7-wLKq644"
      },
      "source": [
        "preds2 = new.predict(X2_test_scaled)"
      ],
      "id": "_8B7-wLKq644",
      "execution_count": 44,
      "outputs": []
    },
    {
      "cell_type": "code",
      "metadata": {
        "colab": {
          "base_uri": "https://localhost:8080/"
        },
        "id": "QLBqpkz1q-MD",
        "outputId": "cefc0e29-0858-4811-bf6e-1a6588405ebe"
      },
      "source": [
        "print(metrics.roc_auc_score(y2_test, preds2))"
      ],
      "id": "QLBqpkz1q-MD",
      "execution_count": 45,
      "outputs": [
        {
          "output_type": "stream",
          "name": "stdout",
          "text": [
            "0.9666384733824781\n"
          ]
        }
      ]
    }
  ]

}